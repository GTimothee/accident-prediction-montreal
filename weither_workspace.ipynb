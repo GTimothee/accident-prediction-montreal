{
 "cells": [
  {
   "cell_type": "code",
   "execution_count": 1,
   "metadata": {},
   "outputs": [],
   "source": [
    "from weather import *\n",
    "from requests import get\n",
    "from bs4 import BeautifulSoup\n",
    "import pandas as pd\n",
    "from os import mkdir\n",
    "from os.path import isdir, isfile\n",
    "from accidents_montreal import *\n",
    "from pyspark.sql import SparkSession\n",
    "from pyspark.sql.functions import monotonically_increasing_id\n",
    "from pyspark.sql import Row\n",
    "import math\n",
    "from io import StringIO"
   ]
  },
  {
   "cell_type": "code",
   "execution_count": 2,
   "metadata": {},
   "outputs": [
    {
     "name": "stdout",
     "output_type": "stream",
     "text": [
      "Skip fetching montreal accidents dataset: already downloaded\n",
      "Skip extraction of accidents montreal dataframe: already done, reading from file\n",
      "['Dew Point Temp (°C)', 'Rel Hum (%)', 'Wind Dir (10s deg)', 'Wind Dir Flag', 'Wind Spd (km/h)', 'Wind Spd Flag', 'Visibility (km)', 'Visibility Flag', 'Stn Press (kPa)', 'Hmdx', 'Hmdx Flag', 'Wind Chill', 'Wind Chill Flag']\n",
      "\n",
      "\n",
      "['Temp Flag', 'Dew Point Temp Flag', 'Rel Hum Flag', 'Stn Press Flag']\n"
     ]
    },
    {
     "data": {
      "text/plain": [
       "Row(Dew Point Temp (°C)=0.55, Dew Point Temp Flag=['M'], Hmdx=nan, Hmdx Flag=nan, Rel Hum (%)=37.75, Rel Hum Flag=['M'], Stn Press (kPa)=101.96, Stn Press Flag=['M'], Temp (°C)=14.956627338772165, Temp Flag=['M'], Visibility (km)=20.0, Visibility Flag=nan, Weather=['Rain', 'Cloudy'], Wind Chill=nan, Wind Chill Flag=nan, Wind Dir (10s deg)=8.833333333333334, Wind Dir Flag=nan, Wind Spd (km/h)=16.166666666666668, Wind Spd Flag=nan)"
      ]
     },
     "execution_count": 2,
     "metadata": {},
     "output_type": "execute_result"
    }
   ],
   "source": [
    "fetch_accidents_montreal()\n",
    "spark = (SparkSession\n",
    "            .builder\n",
    "            .appName(\"Road accidents prediction\")\n",
    "            .getOrCreate())\n",
    "df=extract_accidents_montreal_dataframe(spark)\n",
    "test=df.take(5)\n",
    "test = list(map(lambda e: (e.LOC_LAT, e.LOC_LONG), test))\n",
    "t= test[0]\n",
    "lat, long = t\n",
    "year, month, day = (2006,5,2)\n",
    "hour = 0\n",
    "get_weather(lat, long, year, month, day, hour)"
   ]
  },
  {
   "cell_type": "code",
   "execution_count": 3,
   "metadata": {},
   "outputs": [
    {
     "data": {
      "text/plain": [
       "[Row(NO_SEQ_COLL='SPVM _ 2015 _ 18203', JR_SEMN_ACCDN='VE', DT_ACCDN='2015/01/09', CD_MUNCP=66023.0, NO_CIVIQ_ACCDN=nan, SFX_NO_CIVIQ_ACCDN='NaN', BORNE_KM_ACCDN=nan, RUE_ACCDN='BELLECHASSE', TP_REPRR_ACCDN=1.0, ACCDN_PRES_DE='1RE AV', NB_METRE_DIST_ACCD=nan, CD_GENRE_ACCDN=40.0, CD_SIT_PRTCE_ACCDN=nan, CD_ETAT_SURFC=16.0, CD_ECLRM=1.0, CD_ENVRN_ACCDN=2.0, NO_ROUTE=nan, CD_CATEG_ROUTE=14.0, CD_ETAT_CHASS=nan, CD_ASPCT_ROUTE=11.0, CD_LOCLN_ACCDN=32.0, CD_POSI_ACCDN=nan, CD_CONFG_ROUTE=2.0, CD_ZON_TRAVX_ROUTR=nan, CD_PNT_CDRNL_ROUTE='NaN', CD_PNT_CDRNL_REPRR='NaN', CD_COND_METEO=12.0, NB_VEH_IMPLIQUES_ACCDN=2, NB_MORTS=0, NB_BLESSES_GRAVES=0, NB_BLESSES_LEGERS=0, HEURE_ACCDN='12:00:00-12:59:00', AN=2015, NB_VICTIMES_TOTAL=0, GRAVITE='Dommages matériels seulement', REG_ADM='Montréal(06)', MRC='Montréal (66 )', nb_automobile_camion_leger=2, nb_camionLourd_tractRoutier=0, nb_outil_equipement=0, nb_tous_autobus_minibus=0, nb_bicyclette=0, nb_cyclomoteur=0, nb_motocyclette=0, nb_taxi=0, nb_urgence=0, nb_motoneige=0, nb_VHR=0, nb_autres_types=0, nb_veh_non_precise=0, NB_DECES_PIETON=0, NB_BLESSES_PIETON=0, NB_VICTIMES_PIETON=0, NB_DECES_MOTO=0, NB_BLESSES_MOTO=0, NB_VICTIMES_MOTO=0, NB_DECES_VELO=0, NB_BLESSES_VELO=0, NB_VICTIMES_VELO=0, VITESSE_AUTOR=50.0, LOC_X=298007.59375, LOC_Y=5045431.0, LOC_COTE_QD='A', LOC_COTE_PD=1, LOC_DETACHEE='N', LOC_IMPRECISION='N', LOC_LONG=-73.58699035644531, LOC_LAT=45.54875946044922)]"
      ]
     },
     "execution_count": 3,
     "metadata": {},
     "output_type": "execute_result"
    }
   ],
   "source": [
    "df.take(1)\n"
   ]
  },
  {
   "cell_type": "markdown",
   "metadata": {},
   "source": [
    "# New for testing weather"
   ]
  },
  {
   "cell_type": "code",
   "execution_count": null,
   "metadata": {},
   "outputs": [],
   "source": []
  },
  {
   "cell_type": "code",
   "execution_count": null,
   "metadata": {},
   "outputs": [],
   "source": []
  },
  {
   "cell_type": "markdown",
   "metadata": {},
   "source": [
    "# old for development and experimentation"
   ]
  },
  {
   "cell_type": "code",
   "execution_count": null,
   "metadata": {},
   "outputs": [],
   "source": [
    "t= test[0]\n",
    "lat, long = t\n",
    "year, month, day = (2006,5,2)\n",
    "hour = 0\n",
    "stations = get_stations(lat, long, year, month, day)\n",
    "weighted_average_num = 0\n",
    "weighted_average_denum = 0\n",
    "weathers = list()\n",
    "cols=list()\n",
    "for station in stations:\n",
    "    identity=station[0]\n",
    "    cache_file_path = f'data/weather/s{identity}_{year}_{month}.h5'\n",
    "    if isfile(cache_file_path):\n",
    "        df = pd.read_hdf(cache_file_path, key='w')\n",
    "    else:\n",
    "        url = (f'http://climate.weather.gc.ca/climate_data/bulk_data_e.html?'\n",
    "               f'format=csv&stationID={identity}&Year={year}&Month={month}&Day={day}&'\n",
    "               f'timeframe=1&submit=Download+Data')\n",
    "        print(url)\n",
    "        csvfile = get(url).text\n",
    "        with StringIO(csvfile) as csvfile:\n",
    "            skip_header(csvfile)\n",
    "\n",
    "            df = pd.read_csv(csvfile,\n",
    "                             index_col='Date/Time', parse_dates=['Date/Time'])\n",
    "\n",
    "        if not isdir('data/weather/'):\n",
    "            mkdir('data/weather/')\n",
    "        df.to_hdf(cache_file_path, key='w')\n",
    "    \n",
    "    s=df.loc[f'{year}-{month}-{day} {hour}:00'] \n",
    "    s.loc[\"station_denom\"] = station[1]\n",
    "    \"\"\"s['Temp (°C)'] = s.at['Temp (°C)']/station[1]\n",
    "    print(s['Temp (°C)'])\"\"\"\n",
    "    if len(cols) == 0:\n",
    "        cols = df.columns.values.tolist() + [\"station_denom\"]\n",
    "    weathers.append(s)\n",
    "\n",
    "weathers = pd.DataFrame(weathers, columns=cols)\n"
   ]
  },
  {
   "cell_type": "code",
   "execution_count": null,
   "metadata": {},
   "outputs": [],
   "source": [
    "\n",
    "temperatures = weathers[['Temp (°C)', 'station_denom']] \\\n",
    "    .dropna() \\\n",
    "    .apply(lambda row: pd.Series([row[0]/row[1], 1/row[1]]), axis=1) \n",
    "temperatures[0].sum() / temperatures[1].sum()"
   ]
  },
  {
   "cell_type": "code",
   "execution_count": null,
   "metadata": {},
   "outputs": [],
   "source": [
    "numeric_cols=[col for col in list(wheathers.dtypes.index) if wheathers.dtypes[col] in ['int64','float64']]\n",
    "non_numeric_cols = [col for col in list(wheathers.dtypes.index) if col not in numeric_cols+['Weather']]\n",
    "numeric_wheathers = wheathers.loc[:,numeric_cols]\n",
    "means = numeric_wheathers.mean()\n",
    "print(means)"
   ]
  },
  {
   "cell_type": "code",
   "execution_count": null,
   "metadata": {},
   "outputs": [],
   "source": [
    "non_num_wheathers = wheathers.loc[:,non_numeric_cols] \n",
    "weather = wheathers.loc[:,'Weather'].dropna().drop_duplicates().values.tolist()\n",
    "non_num_wheathers.iat[5,2]='A'\n",
    "\n",
    "def get_majority_vote(col):\n",
    "    vals = col.dropna().drop_duplicates().tolist()\n",
    "    if len(vals) > 0:\n",
    "        e= max(set(vals), key=vals.count)\n",
    "        return [v for v in vals if vals.count(e)==vals.count(v)]\n",
    "    else:\n",
    "        return ''\n",
    "    \n",
    "non_num_wheathers = non_num_wheathers.apply(lambda col:small_func(col), axis=0)\n",
    "a=non_num_wheathers.index.values.tolist()\n",
    "b=non_num_wheathers.values.tolist()\n",
    "c=means.index.values.tolist()\n",
    "d=means.values.tolist()\n",
    "indexes = a + c + ['Weather']\n",
    "vals = b + d + [weather]"
   ]
  },
  {
   "cell_type": "code",
   "execution_count": null,
   "metadata": {},
   "outputs": [],
   "source": [
    "Row(**dict(zip(indexes, vals)))"
   ]
  },
  {
   "cell_type": "code",
   "execution_count": null,
   "metadata": {},
   "outputs": [],
   "source": []
  }
 ],
 "metadata": {
  "kernelspec": {
   "display_name": "AccidentsPredictionEnv",
   "language": "python",
   "name": "myenv"
  },
  "language_info": {
   "codemirror_mode": {
    "name": "ipython",
    "version": 3
   },
   "file_extension": ".py",
   "mimetype": "text/x-python",
   "name": "python",
   "nbconvert_exporter": "python",
   "pygments_lexer": "ipython3",
   "version": "3.7.2"
  }
 },
 "nbformat": 4,
 "nbformat_minor": 2
}
