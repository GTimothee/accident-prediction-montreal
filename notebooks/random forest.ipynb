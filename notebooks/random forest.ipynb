{
 "cells": [
  {
   "cell_type": "code",
   "execution_count": 1,
   "metadata": {},
   "outputs": [
    {
     "name": "stdout",
     "output_type": "stream",
     "text": [
      "/home/hantoine/Documents/Cours/Concordia/2019-Winter/SOEN_691_Big_Data_Analytics/project/accident-prediction-montreal\n"
     ]
    }
   ],
   "source": [
    "cd .."
   ]
  },
  {
   "cell_type": "code",
   "execution_count": 2,
   "metadata": {},
   "outputs": [],
   "source": [
    "%matplotlib inline\n",
    "import sys\n",
    "sys.path.insert(0, '/home/hantoine/concordia/bigdata/project/spark/python')"
   ]
  },
  {
   "cell_type": "code",
   "execution_count": 3,
   "metadata": {},
   "outputs": [
    {
     "name": "stdout",
     "output_type": "stream",
     "text": [
      "Spark Session created\n",
      "Parameters:\n",
      "\tspark.driver.extraClassPath: ./data/xgboost4j-spark-0.72.jar:./data/xgboost4j-0.72.jar\n",
      "\tspark.network.timeout: 300s\n",
      "\tspark.master: local[10]\n",
      "\tspark.executor.id: driver\n",
      "\tspark.cleaner.periodicGC.interval: 5min\n",
      "\tspark.driver.port: 39845\n",
      "\tspark.app.name: Accident prediction\n",
      "\tspark.serializer: org.apache.spark.serializer.KryoSerializer\n",
      "\tspark.driver.memory: 7g\n",
      "\tspark.rdd.compress: True\n",
      "\tspark.driver.host: laptop-hantoine\n",
      "\tspark.serializer.objectStreamReset: 100\n",
      "\tspark.app.id: local-1555769809646\n",
      "\tspark.submit.pyFiles: \n",
      "\tspark.submit.deployMode: client\n",
      "\tspark.ui.showConsoleProgress: true\n"
     ]
    },
    {
     "data": {
      "text/plain": [
       "'3.0.0-SNAPSHOT'"
      ]
     },
     "execution_count": 3,
     "metadata": {},
     "output_type": "execute_result"
    }
   ],
   "source": [
    "from preprocess import get_negative_samples, get_positive_samples\n",
    "from utils import init_spark\n",
    "spark = init_spark()\n",
    "spark.version"
   ]
  },
  {
   "cell_type": "code",
   "execution_count": 4,
   "metadata": {},
   "outputs": [],
   "source": [
    "# from weather import get_weather_df\n",
    "# from pyspark.sql.functions import col\n",
    "# weather_df = get_weather_df(spark, None)\n",
    "# (weather_df\n",
    "#  .filter((col('date') == datetime.fromisoformat('2014-01-17').date()) & (col('hour') == 15))\n",
    "#  .select('station_id', 'rel_hum', 'visibility', 'stn_press', 'temp', 'risky_weather')\n",
    "#  .dropna(how='all', subset=['rel_hum', 'visibility', 'stn_press', 'temp'])\n",
    "#  .show())\n",
    "\n",
    "# from preprocess import get_weather_information\n",
    "# from weather import get_weather_df\n",
    "\n",
    "# weather_df = get_weather_df(spark, None)\n",
    "# (get_weather_information(sample, weather_df)\n",
    "#  .select('rel_hum', 'visibility', 'stn_press', 'temp', 'risky_weather')\n",
    "#  .show())"
   ]
  },
  {
   "cell_type": "code",
   "execution_count": 5,
   "metadata": {},
   "outputs": [],
   "source": [
    "# from datetime import datetime\n",
    "# sample = spark.createDataFrame([(0, datetime.fromisoformat('2014-01-17').date(), 15, -73.66106428971901, 45.48674117457887)],\n",
    "#                       ['sample_id', 'date', 'hour', 'loc_long', 'loc_lat'])\n",
    "# sample.show()"
   ]
  },
  {
   "cell_type": "code",
   "execution_count": 6,
   "metadata": {},
   "outputs": [],
   "source": [
    "neg_samples = get_negative_samples(spark).sample(0.5)\n",
    "pos_samples = get_positive_samples(spark)\n",
    "# pos_samples.write.parquet('data/pos_samples_0.2.parquet')\n",
    "# neg_samples.write.parquet('data/neg_samples_0.2.parquet')\n",
    "# pos_samples = spark.read.parquet('data/pos_samples_0.2.parquet')\n",
    "# neg_samples = spark.read.parquet('data/neg_samples_0.2.parquet')"
   ]
  },
  {
   "cell_type": "code",
   "execution_count": 7,
   "metadata": {},
   "outputs": [],
   "source": [
    "# from accidents_montreal import get_accident_df\n",
    "# from weather import get_weather_station_coords_df\n",
    "# from operator import and_\n",
    "# acc = get_accident_df(spark)\n",
    "# weather_stations = get_weather_station_coords_df(spark, None)\n",
    "# def write_to_KML_file(row):\n",
    "#     with open(f'./data/kml_stations/{str(row.station_id)}.kml', 'w') as file:\n",
    "#         file.write(f\"\"\"<?xml version=\"1.0\" encoding=\"UTF-8\"?>\n",
    "# <kml xmlns=\"http://www.opengis.net/kml/2.2\">\n",
    "#   <Document>\n",
    "#   <Placemark>\n",
    "#     <name>Station {row.station_id}</name>\n",
    "#     <Point>\n",
    "#       <coordinates>{row.station_long},{row.station_lat},0</coordinates>\n",
    "#     </Point>\n",
    "#   </Placemark>\n",
    "#   </Document>\n",
    "# </kml>\n",
    "# \"\"\")\n",
    "#     return True\n",
    "# weather_stations.rdd.map(write_to_KML_file).reduce(and_)"
   ]
  },
  {
   "cell_type": "code",
   "execution_count": 8,
   "metadata": {},
   "outputs": [],
   "source": [
    "# neg_samples.select(avg('visibility'), stddev('visibility')).show()\n",
    "# pos_samples.select(avg('visibility'), stddev('visibility')).show()"
   ]
  },
  {
   "cell_type": "code",
   "execution_count": 9,
   "metadata": {},
   "outputs": [],
   "source": [
    "# pos_samples.filter(col('date') == datetime.fromisoformat('2016-06-19')).select(avg('visibility'), stddev('visibility'), count('sample_id')).show()"
   ]
  },
  {
   "cell_type": "code",
   "execution_count": 10,
   "metadata": {},
   "outputs": [],
   "source": [
    "# from road_network import get_road_features_df\n",
    "# from pyspark.sql.functions import *\n",
    "# from pyspark.sql import Window\n",
    "# road = get_road_features_df(spark)\n",
    "# col_name = 'street_id'\n",
    "# street_risk_rank = \\\n",
    "#     (pos_samples\n",
    "#      .select(col_name)\n",
    "#      .na.fill(\"unknown\")\n",
    "#      .groupBy(col_name).count()\n",
    "#      .withColumn('risk', col('count') / lit(pos_samples.count()))\n",
    "#      .drop('count')\n",
    "#      .join(road.select('street_id'), 'street_id', 'outer')\n",
    "#      .na.fill(0, ['risk'])\n",
    "#      .withColumn(col_name + '_indexed',\n",
    "#                  row_number().over(Window.orderBy(col('risk').desc())))\n",
    "#      .drop('risk')\n",
    "#     )\n",
    "# # street_risk_rank.orderBy('street_id_indexed').show(n=100)\n",
    "\n",
    "# pos_samples = pos_samples.join(street_risk_rank, 'street_id')\n",
    "# neg_samples = neg_samples.join(street_risk_rank, 'street_id')\n",
    "# neg_samples.count()"
   ]
  },
  {
   "cell_type": "code",
   "execution_count": 11,
   "metadata": {},
   "outputs": [],
   "source": [
    "from datetime import datetime\n",
    "from pyspark.sql.functions import *\n",
    "train_pos = \\\n",
    "    (pos_samples\n",
    "    .filter(col('date') < datetime.fromisoformat('2017-01-01')))\n",
    "train_neg = \\\n",
    "    (neg_samples\n",
    "    .filter(col('date') < datetime.fromisoformat('2017-01-01')))\n",
    "test_pos = \\\n",
    "    (pos_samples\n",
    "    .filter(col('date') >= datetime.fromisoformat('2017-01-01')))\n",
    "test_neg = \\\n",
    "    (neg_samples\n",
    "    .filter(col('date') >= datetime.fromisoformat('2017-01-01')))"
   ]
  },
  {
   "cell_type": "code",
   "execution_count": 12,
   "metadata": {},
   "outputs": [
    {
     "data": {
      "text/plain": [
       "113450"
      ]
     },
     "execution_count": 12,
     "metadata": {},
     "output_type": "execute_result"
    }
   ],
   "source": [
    "train_pos.count()"
   ]
  },
  {
   "cell_type": "code",
   "execution_count": 13,
   "metadata": {},
   "outputs": [
    {
     "data": {
      "text/plain": [
       "967632"
      ]
     },
     "execution_count": 13,
     "metadata": {},
     "output_type": "execute_result"
    }
   ],
   "source": [
    "train_neg.count()"
   ]
  },
  {
   "cell_type": "code",
   "execution_count": 14,
   "metadata": {},
   "outputs": [
    {
     "name": "stdout",
     "output_type": "stream",
     "text": [
      "Skip extracting road features: already done\n"
     ]
    }
   ],
   "source": [
    "from road_network import get_road_features_df\n",
    "from pyspark.sql.functions import *\n",
    "from pyspark.sql import Window\n",
    "road = get_road_features_df(spark)\n",
    "street_accident_count = \\\n",
    "    (train_pos\n",
    "     .select('street_id')\n",
    "     .groupBy('street_id').count()\n",
    "     .join(road.select('street_id'), 'street_id', 'outer')\n",
    "     .na.fill(0, ['count'])\n",
    "     .withColumnRenamed('count', 'accident_count')\n",
    "    )\n",
    "\n",
    "train_pos = train_pos.join(street_accident_count, 'street_id')\n",
    "train_neg = train_neg.join(street_accident_count, 'street_id')\n",
    "test_pos = test_pos.join(street_accident_count, 'street_id')\n",
    "test_neg = test_neg.join(street_accident_count, 'street_id')"
   ]
  },
  {
   "cell_type": "code",
   "execution_count": 15,
   "metadata": {},
   "outputs": [
    {
     "data": {
      "text/plain": [
       "113450"
      ]
     },
     "execution_count": 15,
     "metadata": {},
     "output_type": "execute_result"
    }
   ],
   "source": [
    "train_pos.count()"
   ]
  },
  {
   "cell_type": "code",
   "execution_count": 16,
   "metadata": {},
   "outputs": [
    {
     "name": "stdout",
     "output_type": "stream",
     "text": [
      "Skip extracting road features: already done\n",
      "Skip extracting road features: already done\n"
     ]
    }
   ],
   "source": [
    "from pyspark.ml.feature import VectorAssembler\n",
    "from preprocess import get_dataset_df, features_col, remove_positive_samples_from_negative_samples\n",
    "\n",
    "lvl_i, typ_i, train_set = get_dataset_df(spark, train_pos, train_neg)\n",
    "\n",
    "test_neg = remove_positive_samples_from_negative_samples(test_neg,\n",
    "                                                            test_pos)\n",
    "test_pos = test_pos.withColumn('label', lit(1.0))\n",
    "test_neg = test_neg.withColumn('label', lit(0.0))\n",
    "\n",
    "test_pos = test_pos.select(*test_neg.columns)\n",
    "test_set = test_pos.union(test_neg)\n",
    "test_set = test_set.join(lvl_i, 'street_level').drop('street_level')\n",
    "test_set = test_set.join(typ_i, 'street_type').drop('street_type')\n",
    "\n",
    "assembler = VectorAssembler(outputCol=\"features\",\n",
    "                                inputCols=features_col,\n",
    "                                handleInvalid='keep'\n",
    "                                )\n",
    "test_set = (assembler.transform(test_set)\n",
    "      .select('sample_id',\n",
    "              'street_id',\n",
    "              'date', 'hour', 'features', 'label'))"
   ]
  },
  {
   "cell_type": "code",
   "execution_count": 17,
   "metadata": {},
   "outputs": [
    {
     "name": "stdout",
     "output_type": "stream",
     "text": [
      "Imbalance ratio: 8.52914940502424\n"
     ]
    }
   ],
   "source": [
    "imbalance_ratio = (train_neg.count()/train_pos.count())\n",
    "print(f\"Imbalance ratio: {imbalance_ratio}\")"
   ]
  },
  {
   "cell_type": "code",
   "execution_count": 18,
   "metadata": {},
   "outputs": [],
   "source": [
    "# from preprocess import get_dataset_df\n",
    "# df = get_dataset_df(spark, pos_samples, neg_samples)\n",
    "# df = df.persist()\n",
    "# df.count()"
   ]
  },
  {
   "cell_type": "code",
   "execution_count": 19,
   "metadata": {},
   "outputs": [],
   "source": [
    "# from pyspark.sql.functions import col\n",
    "# from datetime import datetime\n",
    "# df_sample = df.filter(col('date') > datetime.fromisoformat('2017-01-01'))\n",
    "# df_sample.count()"
   ]
  },
  {
   "cell_type": "code",
   "execution_count": 20,
   "metadata": {},
   "outputs": [],
   "source": [
    "# from random_undersampler import RandomUnderSampler\n",
    "\n",
    "# (train_set, test_set) = df.randomSplit([0.7, 0.3])\n",
    "# ru = RandomUnderSampler().setIndexCol('id')\n",
    "# model = ru.fit(train_set)\n",
    "# train_set = model.transform(train_set)\n",
    "# test_set = model.transform(test_set)\n",
    "# print(train_set.count(), test_set.count())"
   ]
  },
  {
   "cell_type": "code",
   "execution_count": 21,
   "metadata": {},
   "outputs": [],
   "source": [
    "# from pyspark.sql.functions import udf, col\n",
    "# from pyspark.sql.types import ArrayType, DoubleType\n",
    "# from random_forest import features_col\n",
    "# dayofweek_features = [f'{features_col[-1]}_{i}' for i in range(1, 8)]\n",
    "# feature_names = features_col[:-1] + dayofweek_features\n",
    "\n",
    "# def extract_X(samples):\n",
    "#     def to_array(col):\n",
    "#         def to_array_(v):\n",
    "#             return v.toArray().tolist()\n",
    "#         return udf(to_array_, ArrayType(DoubleType()))(col)\n",
    "#     X = (samples\n",
    "#          .select(to_array('features').alias('fa'))\n",
    "#          .select([col(\"fa\")[i] for i in range(26)]))\n",
    "#     X = X.toDF(*feature_names)\n",
    "#     #return X\n",
    "#     return X.toPandas()#.values\n",
    "\n",
    "# trainX = extract_X(train_set)\n",
    "# # testX = extract_X(test_set)\n",
    "# trainy = train_set.select('label').toPandas().values.T\n",
    "# # trainx = test_set.select('label').toPandas().values.T"
   ]
  },
  {
   "cell_type": "code",
   "execution_count": 22,
   "metadata": {},
   "outputs": [],
   "source": [
    "# trainX.count()"
   ]
  },
  {
   "cell_type": "code",
   "execution_count": 23,
   "metadata": {},
   "outputs": [],
   "source": [
    "# from sklearn.metrics import precision_recall_curve\n",
    "# from sklearn.metrics import auc\n",
    "# from sklearn.ensemble import RandomForestClassifier\n",
    "# from matplotlib import pyplot\n",
    "\n",
    "# model = RandomForestClassifier(n_estimators=100)\n",
    "# model.fit(trainX, trainy)\n",
    "# # predict probabilities\n",
    "# probs = model.predict_proba(testX)\n",
    "# # keep probabilities for the positive outcome only\n",
    "# probs = probs[:, 1]\n",
    "# # predict class values\n",
    "# yhat = model.predict(testX)\n",
    "# # calculate precision-recall curve\n",
    "# precision, recall, thresholds = precision_recall_curve(testy, probs)\n",
    "# # calculate precision-recall AUC\n",
    "# auc = auc(recall, precision)\n",
    "# print('auc=%.3f' % auc)\n",
    "# # plot no skill\n",
    "# pyplot.plot([0, 1], [0.5, 0.5], linestyle='--')\n",
    "# # plot the precision-recall curve for the model\n",
    "# pyplot.plot(recall, precision, marker='.')\n",
    "# # show the plot\n",
    "# pyplot.show()"
   ]
  },
  {
   "cell_type": "code",
   "execution_count": 24,
   "metadata": {},
   "outputs": [],
   "source": [
    "from pyspark.ml.classification import RandomForestClassifier\n",
    "from pyspark.ml.evaluation import BinaryClassificationEvaluator\n",
    "from pyspark.ml.evaluation import MulticlassClassificationEvaluator\n",
    "from pyspark.ml.tuning import ParamGridBuilder, TrainValidationSplit, CrossValidator\n",
    "from pyspark.ml import Pipeline\n",
    "from random_undersampler import RandomUnderSampler\n",
    "from class_weighter import ClassWeighter\n",
    "\n",
    "\n",
    "\n",
    "# (train_set, test_set) = df.randomSplit([0.8, 0.2])\n",
    "\n",
    "rf = RandomForestClassifier(labelCol=\"label\",\n",
    "                            featuresCol=\"features\",\n",
    "                            cacheNodeIds=True,\n",
    "                            maxDepth=17,\n",
    "                            impurity='entropy',\n",
    "                            featureSubsetStrategy='sqrt',\n",
    "#                             weightCol='weight',\n",
    "                            minInstancesPerNode=10,\n",
    "                            numTrees=100,\n",
    "                            subsamplingRate=1.0,\n",
    "                            maxMemoryInMB=768\n",
    "                           )\n",
    "ru = RandomUnderSampler().setIndexCol('id').setTargetImbalanceRatio(1.0)\n",
    "cw = ClassWeighter().setClassWeight([1/imbalance_ratio, 1.0])\n",
    "pipeline = Pipeline().setStages([\n",
    "                                 ru,\n",
    "#                                  cw,\n",
    "                                 rf])\n",
    "model = pipeline.fit(train_set)"
   ]
  },
  {
   "cell_type": "code",
   "execution_count": 25,
   "metadata": {},
   "outputs": [],
   "source": [
    "# paramGrid = (ParamGridBuilder()\n",
    "#      .addGrid(rf.numTrees, [100])\n",
    "#     .addGrid(rf.featureSubsetStrategy, ['sqrt'])\n",
    "#     .addGrid(rf.impurity, ['entropy'])\n",
    "#     .addGrid(rf.maxDepth, [17])\n",
    "#      .addGrid(rf.minInstancesPerNode, [10])\n",
    "#      .addGrid(rf.subsamplingRate, [1.0])\n",
    "# #     .addGrid(ru.targetImbalanceRatio, [1.0, 2.0, 3.0, 5.0, 7.0])\n",
    "#     .addGrid(ru.targetImbalanceRatio, [1.0])\n",
    "# #     .addGrid(cw.classWeight, [[1/imbalance_ratio, 1.0]])\n",
    "#     .build())\n",
    "# PR_evaluator = BinaryClassificationEvaluator(labelCol=\"label\",\n",
    "#                                              rawPredictionCol=\"rawPrediction\",\n",
    "#                                              metricName=\"areaUnderPR\")\n",
    "# tvs = CrossValidator(estimator=pipeline,\n",
    "#                            estimatorParamMaps=paramGrid,\n",
    "#                            evaluator=PR_evaluator,\n",
    "# #                            trainRatio=0.7,\n",
    "#                            collectSubModels=True)\n",
    "# model = tvs.fit(train_set)\n",
    "# model.avgMetrics"
   ]
  },
  {
   "cell_type": "code",
   "execution_count": 26,
   "metadata": {},
   "outputs": [
    {
     "name": "stdout",
     "output_type": "stream",
     "text": [
      "targetImbalanceRatio: 1.0\n",
      "cacheNodeIds: True\n",
      "checkpointInterval: 10\n",
      "featureSubsetStrategy: sqrt\n",
      "featuresCol: features\n",
      "impurity: entropy\n",
      "labelCol: label\n",
      "maxBins: 32\n",
      "maxDepth: 17\n",
      "maxMemoryInMB: 768\n",
      "minInfoGain: 0.0\n",
      "minInstancesPerNode: 10\n",
      "numTrees: 100\n",
      "predictionCol: prediction\n",
      "probabilityCol: probability\n",
      "rawPredictionCol: rawPrediction\n",
      "seed: -4598544264785588757\n",
      "subsamplingRate: 1.0\n"
     ]
    }
   ],
   "source": [
    "def print_params(model):\n",
    "    for stage in model.stages:\n",
    "        params = stage.extractParamMap()\n",
    "        for k in params:\n",
    "            print(f'{k.name}: {params[k]}')\n",
    "\n",
    "print_params(model)"
   ]
  },
  {
   "cell_type": "code",
   "execution_count": 27,
   "metadata": {},
   "outputs": [],
   "source": [
    "# predictions = model.transform(test_set)"
   ]
  },
  {
   "cell_type": "code",
   "execution_count": 28,
   "metadata": {},
   "outputs": [],
   "source": [
    "# Since test_set does not contain ids and random undersmapler is expecting one\n",
    "# and we don't want to add id to test_set since some of them could match the ones in the training set \n",
    "# which would result in test examples to be removed\n",
    "# And Since random sampler should be identiy for the test set, let juste call transform of the rf stage\n",
    "predictions = model.stages[1].transform(test_set).persist()"
   ]
  },
  {
   "cell_type": "markdown",
   "metadata": {},
   "source": [
    "start from here"
   ]
  },
  {
   "cell_type": "code",
   "execution_count": 31,
   "metadata": {},
   "outputs": [
    {
     "name": "stdout",
     "output_type": "stream",
     "text": [
      "Area Under PR = 0.5477353322941071\n",
      "F1 score = 0.8385343776471799\n"
     ]
    },
    {
     "data": {
      "text/plain": [
       "(0.5477353322941071, 0.8385343776471799)"
      ]
     },
     "execution_count": 31,
     "metadata": {},
     "output_type": "execute_result"
    }
   ],
   "source": [
    "from evaluate import evaluate_binary_classifier\n",
    "evaluate_binary_classifier(predictions)"
   ]
  },
  {
   "cell_type": "code",
   "execution_count": 32,
   "metadata": {},
   "outputs": [
    {
     "data": {
      "text/plain": [
       "0.88727747863023"
      ]
     },
     "execution_count": 32,
     "metadata": {},
     "output_type": "execute_result"
    }
   ],
   "source": [
    "ROC_evaluator = \\\n",
    "    BinaryClassificationEvaluator(labelCol=\"label\",\n",
    "                                  rawPredictionCol=\"rawPrediction\",\n",
    "                                  metricName=\"areaUnderROC\")\n",
    "area_under_ROC = ROC_evaluator.evaluate(predictions)\n",
    "area_under_ROC"
   ]
  },
  {
   "cell_type": "code",
   "execution_count": 33,
   "metadata": {},
   "outputs": [],
   "source": [
    "train_predictions = model.transform(train_set).persist()"
   ]
  },
  {
   "cell_type": "code",
   "execution_count": 34,
   "metadata": {},
   "outputs": [
    {
     "name": "stdout",
     "output_type": "stream",
     "text": [
      "Area Under PR = 0.9503488236288435\n",
      "F1 score = 0.8780319975862718\n"
     ]
    },
    {
     "data": {
      "text/plain": [
       "(0.9503488236288435, 0.8780319975862718)"
      ]
     },
     "execution_count": 34,
     "metadata": {},
     "output_type": "execute_result"
    }
   ],
   "source": [
    "from evaluate import evaluate_binary_classifier\n",
    "evaluate_binary_classifier(train_predictions)"
   ]
  },
  {
   "cell_type": "code",
   "execution_count": 35,
   "metadata": {},
   "outputs": [
    {
     "data": {
      "text/plain": [
       "0.954643768938794"
      ]
     },
     "execution_count": 35,
     "metadata": {},
     "output_type": "execute_result"
    }
   ],
   "source": [
    "ROC_evaluator = \\\n",
    "    BinaryClassificationEvaluator(labelCol=\"label\",\n",
    "                                  rawPredictionCol=\"rawPrediction\",\n",
    "                                  metricName=\"areaUnderROC\")\n",
    "area_under_ROC = ROC_evaluator.evaluate(train_predictions)\n",
    "area_under_ROC"
   ]
  },
  {
   "cell_type": "code",
   "execution_count": 36,
   "metadata": {},
   "outputs": [
    {
     "data": {
      "text/plain": [
       "<matplotlib.axes._subplots.AxesSubplot at 0x7f3a9091c588>"
      ]
     },
     "execution_count": 36,
     "metadata": {},
     "output_type": "execute_result"
    },
    {
     "data": {
      "image/png": "[encoded data removed]",
      "text/plain": [
       "<Figure size 432x288 with 1 Axes>"
      ]
     },
     "metadata": {
      "needs_background": "light"
     },
     "output_type": "display_data"
    }
   ],
   "source": [
    "from random_forest import features_col\n",
    "import pandas as pd\n",
    "fi = pd.DataFrame(model\n",
    "                  .stages[1]\n",
    "                  .featureImportances\n",
    "                  .toArray())\n",
    "fi.index = features_col\n",
    "fi.columns = ['Feature Importances']\n",
    "fi = fi.sort_values(by=['Feature Importances'], ascending=False)\n",
    "fi.plot.bar()"
   ]
  },
  {
   "cell_type": "code",
   "execution_count": 37,
   "metadata": {},
   "outputs": [],
   "source": [
    "from random_forest import compute_precision_recall_graph\n",
    "precision_recall = compute_precision_recall_graph(predictions, 20)"
   ]
  },
  {
   "cell_type": "code",
   "execution_count": 38,
   "metadata": {},
   "outputs": [],
   "source": [
    "# from random_forest import compute_precision_recall\n",
    "# compute_precision_recall(predictions, 0.83)"
   ]
  },
  {
   "cell_type": "code",
   "execution_count": 39,
   "metadata": {},
   "outputs": [],
   "source": [
    "# precision_recall.to_csv('data/precision_recall_brf_cheat.csv')"
   ]
  },
  {
   "cell_type": "code",
   "execution_count": 40,
   "metadata": {},
   "outputs": [
    {
     "data": {
      "text/plain": [
       "<matplotlib.axes._subplots.AxesSubplot at 0x7f3a907f4400>"
      ]
     },
     "execution_count": 40,
     "metadata": {},
     "output_type": "execute_result"
    },
    {
     "data": {
      "image/png": "[encoded data removed]",
      "text/plain": [
       "<Figure size 432x288 with 1 Axes>"
      ]
     },
     "metadata": {
      "needs_background": "light"
     },
     "output_type": "display_data"
    }
   ],
   "source": [
    "precision_recall.plot(x='Threshold', title='RF')"
   ]
  },
  {
   "cell_type": "code",
   "execution_count": 41,
   "metadata": {},
   "outputs": [],
   "source": [
    "# precision_recall.plot(x='Recall', y='Precision', ylim=(0,1))"
   ]
  },
  {
   "cell_type": "code",
   "execution_count": 42,
   "metadata": {},
   "outputs": [
    {
     "data": {
      "text/html": [
       "<div>\n",
       "<style scoped>\n",
       "    .dataframe tbody tr th:only-of-type {\n",
       "        vertical-align: middle;\n",
       "    }\n",
       "\n",
       "    .dataframe tbody tr th {\n",
       "        vertical-align: top;\n",
       "    }\n",
       "\n",
       "    .dataframe thead th {\n",
       "        text-align: right;\n",
       "    }\n",
       "</style>\n",
       "<table border=\"1\" class=\"dataframe\">\n",
       "  <thead>\n",
       "    <tr style=\"text-align: right;\">\n",
       "      <th></th>\n",
       "      <th>Threshold</th>\n",
       "      <th>Precision</th>\n",
       "      <th>Recall</th>\n",
       "    </tr>\n",
       "  </thead>\n",
       "  <tbody>\n",
       "    <tr>\n",
       "      <th>0</th>\n",
       "      <td>0.000000</td>\n",
       "      <td>0.102028</td>\n",
       "      <td>1.000000</td>\n",
       "    </tr>\n",
       "    <tr>\n",
       "      <th>1</th>\n",
       "      <td>0.052632</td>\n",
       "      <td>0.191169</td>\n",
       "      <td>0.940735</td>\n",
       "    </tr>\n",
       "    <tr>\n",
       "      <th>2</th>\n",
       "      <td>0.105263</td>\n",
       "      <td>0.193687</td>\n",
       "      <td>0.939591</td>\n",
       "    </tr>\n",
       "    <tr>\n",
       "      <th>3</th>\n",
       "      <td>0.157895</td>\n",
       "      <td>0.202194</td>\n",
       "      <td>0.936459</td>\n",
       "    </tr>\n",
       "    <tr>\n",
       "      <th>4</th>\n",
       "      <td>0.210526</td>\n",
       "      <td>0.210803</td>\n",
       "      <td>0.930194</td>\n",
       "    </tr>\n",
       "    <tr>\n",
       "      <th>5</th>\n",
       "      <td>0.263158</td>\n",
       "      <td>0.222716</td>\n",
       "      <td>0.921394</td>\n",
       "    </tr>\n",
       "    <tr>\n",
       "      <th>6</th>\n",
       "      <td>0.315789</td>\n",
       "      <td>0.240942</td>\n",
       "      <td>0.904887</td>\n",
       "    </tr>\n",
       "    <tr>\n",
       "      <th>7</th>\n",
       "      <td>0.368421</td>\n",
       "      <td>0.267165</td>\n",
       "      <td>0.878536</td>\n",
       "    </tr>\n",
       "    <tr>\n",
       "      <th>8</th>\n",
       "      <td>0.421053</td>\n",
       "      <td>0.289782</td>\n",
       "      <td>0.860140</td>\n",
       "    </tr>\n",
       "    <tr>\n",
       "      <th>9</th>\n",
       "      <td>0.473684</td>\n",
       "      <td>0.309341</td>\n",
       "      <td>0.841247</td>\n",
       "    </tr>\n",
       "    <tr>\n",
       "      <th>10</th>\n",
       "      <td>0.526316</td>\n",
       "      <td>0.335162</td>\n",
       "      <td>0.813852</td>\n",
       "    </tr>\n",
       "    <tr>\n",
       "      <th>11</th>\n",
       "      <td>0.578947</td>\n",
       "      <td>0.366367</td>\n",
       "      <td>0.783374</td>\n",
       "    </tr>\n",
       "    <tr>\n",
       "      <th>12</th>\n",
       "      <td>0.631579</td>\n",
       "      <td>0.396719</td>\n",
       "      <td>0.746731</td>\n",
       "    </tr>\n",
       "    <tr>\n",
       "      <th>13</th>\n",
       "      <td>0.684211</td>\n",
       "      <td>0.431792</td>\n",
       "      <td>0.704718</td>\n",
       "    </tr>\n",
       "    <tr>\n",
       "      <th>14</th>\n",
       "      <td>0.736842</td>\n",
       "      <td>0.476295</td>\n",
       "      <td>0.648834</td>\n",
       "    </tr>\n",
       "    <tr>\n",
       "      <th>15</th>\n",
       "      <td>0.789474</td>\n",
       "      <td>0.527022</td>\n",
       "      <td>0.574057</td>\n",
       "    </tr>\n",
       "    <tr>\n",
       "      <th>16</th>\n",
       "      <td>0.842105</td>\n",
       "      <td>0.584289</td>\n",
       "      <td>0.483717</td>\n",
       "    </tr>\n",
       "    <tr>\n",
       "      <th>17</th>\n",
       "      <td>0.894737</td>\n",
       "      <td>0.658863</td>\n",
       "      <td>0.356834</td>\n",
       "    </tr>\n",
       "    <tr>\n",
       "      <th>18</th>\n",
       "      <td>0.947368</td>\n",
       "      <td>0.769929</td>\n",
       "      <td>0.139263</td>\n",
       "    </tr>\n",
       "    <tr>\n",
       "      <th>19</th>\n",
       "      <td>1.000000</td>\n",
       "      <td>NaN</td>\n",
       "      <td>0.000000</td>\n",
       "    </tr>\n",
       "  </tbody>\n",
       "</table>\n",
       "</div>"
      ],
      "text/plain": [
       "    Threshold  Precision    Recall\n",
       "0    0.000000   0.102028  1.000000\n",
       "1    0.052632   0.191169  0.940735\n",
       "2    0.105263   0.193687  0.939591\n",
       "3    0.157895   0.202194  0.936459\n",
       "4    0.210526   0.210803  0.930194\n",
       "5    0.263158   0.222716  0.921394\n",
       "6    0.315789   0.240942  0.904887\n",
       "7    0.368421   0.267165  0.878536\n",
       "8    0.421053   0.289782  0.860140\n",
       "9    0.473684   0.309341  0.841247\n",
       "10   0.526316   0.335162  0.813852\n",
       "11   0.578947   0.366367  0.783374\n",
       "12   0.631579   0.396719  0.746731\n",
       "13   0.684211   0.431792  0.704718\n",
       "14   0.736842   0.476295  0.648834\n",
       "15   0.789474   0.527022  0.574057\n",
       "16   0.842105   0.584289  0.483717\n",
       "17   0.894737   0.658863  0.356834\n",
       "18   0.947368   0.769929  0.139263\n",
       "19   1.000000        NaN  0.000000"
      ]
     },
     "execution_count": 42,
     "metadata": {},
     "output_type": "execute_result"
    }
   ],
   "source": [
    "precision_recall"
   ]
  },
  {
   "cell_type": "code",
   "execution_count": 43,
   "metadata": {},
   "outputs": [],
   "source": [
    "precision_recall.to_csv('results/rf_pr_tab.csv')"
   ]
  }
 ],
 "metadata": {
  "kernelspec": {
   "display_name": "accident-prediction-montreal",
   "language": "python",
   "name": "accident-prediction-montreal"
  },
  "language_info": {
   "codemirror_mode": {
    "name": "ipython",
    "version": 3
   },
   "file_extension": ".py",
   "mimetype": "text/x-python",
   "name": "python",
   "nbconvert_exporter": "python",
   "pygments_lexer": "ipython3",
   "version": "3.7.2"
  }
 },
 "nbformat": 4,
 "nbformat_minor": 2
}
