{
 "cells": [
  {
   "cell_type": "code",
   "execution_count": 1,
   "metadata": {},
   "outputs": [
    {
     "name": "stdout",
     "output_type": "stream",
     "text": [
      "/home/user/Documents/workspace/projects/accident-prediction-montreal\n"
     ]
    }
   ],
   "source": [
    "cd .."
   ]
  },
  {
   "cell_type": "code",
   "execution_count": 2,
   "metadata": {},
   "outputs": [],
   "source": [
    "from preprocess import get_positive_samples\n",
    "from utils import init_spark"
   ]
  },
  {
   "cell_type": "code",
   "execution_count": 3,
   "metadata": {},
   "outputs": [
    {
     "name": "stdout",
     "output_type": "stream",
     "text": [
      "Spark Session created\n",
      "Parameters:\n",
      "\tspark.serializer: org.apache.spark.serializer.KryoSerializer\n",
      "\tspark.driver.memory: 3g\n",
      "\tspark.driver.port: 35665\n",
      "\tspark.rdd.compress: True\n",
      "\tspark.serializer.objectStreamReset: 100\n",
      "\tspark.master: local[*]\n",
      "\tspark.executor.id: driver\n",
      "\tspark.submit.deployMode: client\n",
      "\tspark.app.id: local-1555304069553\n",
      "\tspark.ui.showConsoleProgress: true\n",
      "\tspark.driver.host: 192.168.100.49\n",
      "\tspark.app.name: Accident prediction\n"
     ]
    }
   ],
   "source": [
    "spark = init_spark()"
   ]
  },
  {
   "cell_type": "code",
   "execution_count": 4,
   "metadata": {},
   "outputs": [
    {
     "name": "stdout",
     "output_type": "stream",
     "text": [
      "limit:  0\n",
      "limit:  100\n",
      "limit:  200\n",
      "limit:  300\n",
      "limit:  400\n",
      "limit:  500\n",
      "limit:  600\n",
      "limit:  700\n",
      "limit:  800\n"
     ]
    }
   ],
   "source": [
    "from time import time\n",
    "import subprocess\n",
    "\n",
    "def get_mem_usage():\n",
    "    a = subprocess.check_output(['vmstat', '1', '1']).decode(\"utf-8\") \n",
    "    b = a.split('\\n')[2].split()\n",
    "    return b[2], b[4], b[5]\n",
    "\n",
    "\n",
    "times = list()\n",
    "swap = list()\n",
    "buff = list()\n",
    "cache = list()\n",
    "for limit in range(0, 900, 100):\n",
    "    print(\"limit: \", limit)\n",
    "    t = time()\n",
    "    df = get_positive_samples(spark, limit=limit, use_cache=True)\n",
    "    s, b, c = get_mem_usage()\n",
    "    swap.append(s)\n",
    "    buff.append(b)\n",
    "    cache.append(c)\n",
    "    times.append(time()-t)"
   ]
  },
  {
   "cell_type": "code",
   "execution_count": 5,
   "metadata": {},
   "outputs": [],
   "source": [
    "#df2 = spark.read.parquet(\"data/positive-samples.parquet\")"
   ]
  },
  {
   "cell_type": "code",
   "execution_count": 6,
   "metadata": {},
   "outputs": [],
   "source": [
    "#"
   ]
  },
  {
   "cell_type": "code",
   "execution_count": 7,
   "metadata": {},
   "outputs": [],
   "source": [
    "import matplotlib.pyplot as plt\n",
    "import numpy as np"
   ]
  },
  {
   "cell_type": "code",
   "execution_count": 8,
   "metadata": {},
   "outputs": [
    {
     "data": {
      "text/plain": [
       "Text(0, 0.5, 'time (s)')"
      ]
     },
     "execution_count": 8,
     "metadata": {},
     "output_type": "execute_result"
    },
    {
     "data": {
      "image/png": "[encoded data removed]",
      "text/plain": [
       "<Figure size 432x288 with 1 Axes>"
      ]
     },
     "metadata": {
      "needs_background": "light"
     },
     "output_type": "display_data"
    }
   ],
   "source": [
    "x = np.asarray(range(0, 900, 100))\n",
    "y = np.asarray(times)\n",
    "\n",
    "plt.plot(x, y)\n",
    "plt.title(\"Processing time depending on the number of samples treated\")\n",
    "plt.xlabel(\"nb samples treated\")\n",
    "plt.ylabel(\"time (s)\")"
   ]
  },
  {
   "cell_type": "code",
   "execution_count": 9,
   "metadata": {},
   "outputs": [
    {
     "data": {
      "text/plain": [
       "Text(0.5, 0, 'nb samples treated')"
      ]
     },
     "execution_count": 9,
     "metadata": {},
     "output_type": "execute_result"
    },
    {
     "data": {
      "image/png": "[encoded data removed]",
      "text/plain": [
       "<Figure size 432x288 with 1 Axes>"
      ]
     },
     "metadata": {
      "needs_background": "light"
     },
     "output_type": "display_data"
    }
   ],
   "source": [
    "import pylab \n",
    "x = np.asarray(range(0, 900, 100))\n",
    "y1= np.asarray([float(i)/1000000 for i in swap])\n",
    "y2= np.asarray([float(i)/1000000 for i in buff])\n",
    "y3= np.asarray([float(i)/1000000 for i in cache])\n",
    "\n",
    "pylab.plot(x, y1, '-r', label='swap')\n",
    "pylab.plot(x, y2, '-b', label='buff')\n",
    "pylab.plot(x, y3, '-g', label='cache')\n",
    "pylab.legend(loc='upper left')\n",
    "pylab.ylabel(\"mem (GB)\")\n",
    "pylab.xlabel(\"nb samples treated\")"
   ]
  },
  {
   "cell_type": "code",
   "execution_count": null,
   "metadata": {},
   "outputs": [],
   "source": []
  }
 ],
 "metadata": {
  "kernelspec": {
   "display_name": "AccidentsPredictionEnv",
   "language": "python",
   "name": "myenv"
  },
  "language_info": {
   "codemirror_mode": {
    "name": "ipython",
    "version": 3
   },
   "file_extension": ".py",
   "mimetype": "text/x-python",
   "name": "python",
   "nbconvert_exporter": "python",
   "pygments_lexer": "ipython3",
   "version": "3.7.2"
  }
 },
 "nbformat": 4,
 "nbformat_minor": 2
}
