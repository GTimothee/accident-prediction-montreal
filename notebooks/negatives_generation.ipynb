{
 "cells": [
  {
   "cell_type": "code",
   "execution_count": 1,
   "metadata": {},
   "outputs": [
    {
     "name": "stdout",
     "output_type": "stream",
     "text": [
      "/home/user/Documents/workspace/projects/accident-prediction-montreal\n"
     ]
    }
   ],
   "source": [
    "cd .."
   ]
  },
  {
   "cell_type": "code",
   "execution_count": 2,
   "metadata": {},
   "outputs": [],
   "source": [
    "from accidents_montreal import get_accident_df\n",
    "from preprocess import init_spark\n",
    "from road_network import get_road_df\n",
    "from weather import add_weather_columns, extract_year_month_day\n",
    "from pyspark.sql.functions import row_number, col, rank, avg, split, to_date, min"
   ]
  },
  {
   "cell_type": "code",
   "execution_count": 3,
   "metadata": {},
   "outputs": [],
   "source": [
    "spark = init_spark()"
   ]
  },
  {
   "cell_type": "markdown",
   "metadata": {},
   "source": [
    "# accidents"
   ]
  },
  {
   "cell_type": "code",
   "execution_count": 4,
   "metadata": {},
   "outputs": [
    {
     "name": "stdout",
     "output_type": "stream",
     "text": [
      "Skip fetching montreal accidents dataset: already downloaded\n",
      "Skip extraction of accidents montreal dataframe: already done, reading from file\n"
     ]
    }
   ],
   "source": [
    "acc_df = get_accident_df(spark)"
   ]
  },
  {
   "cell_type": "code",
   "execution_count": 5,
   "metadata": {},
   "outputs": [
    {
     "data": {
      "text/plain": [
       "['NO_SEQ_COLL',\n",
       " 'JR_SEMN_ACCDN',\n",
       " 'DT_ACCDN',\n",
       " 'CD_MUNCP',\n",
       " 'NO_CIVIQ_ACCDN',\n",
       " 'SFX_NO_CIVIQ_ACCDN',\n",
       " 'BORNE_KM_ACCDN',\n",
       " 'RUE_ACCDN',\n",
       " 'TP_REPRR_ACCDN',\n",
       " 'ACCDN_PRES_DE',\n",
       " 'NB_METRE_DIST_ACCD',\n",
       " 'CD_GENRE_ACCDN',\n",
       " 'CD_SIT_PRTCE_ACCDN',\n",
       " 'CD_ETAT_SURFC',\n",
       " 'CD_ECLRM',\n",
       " 'CD_ENVRN_ACCDN',\n",
       " 'NO_ROUTE',\n",
       " 'CD_CATEG_ROUTE',\n",
       " 'CD_ETAT_CHASS',\n",
       " 'CD_ASPCT_ROUTE',\n",
       " 'CD_LOCLN_ACCDN',\n",
       " 'CD_POSI_ACCDN',\n",
       " 'CD_CONFG_ROUTE',\n",
       " 'CD_ZON_TRAVX_ROUTR',\n",
       " 'CD_PNT_CDRNL_ROUTE',\n",
       " 'CD_PNT_CDRNL_REPRR',\n",
       " 'CD_COND_METEO',\n",
       " 'NB_VEH_IMPLIQUES_ACCDN',\n",
       " 'NB_MORTS',\n",
       " 'NB_BLESSES_GRAVES',\n",
       " 'NB_BLESSES_LEGERS',\n",
       " 'HEURE_ACCDN',\n",
       " 'AN',\n",
       " 'NB_VICTIMES_TOTAL',\n",
       " 'GRAVITE',\n",
       " 'REG_ADM',\n",
       " 'MRC',\n",
       " 'nb_automobile_camion_leger',\n",
       " 'nb_camionLourd_tractRoutier',\n",
       " 'nb_outil_equipement',\n",
       " 'nb_tous_autobus_minibus',\n",
       " 'nb_bicyclette',\n",
       " 'nb_cyclomoteur',\n",
       " 'nb_motocyclette',\n",
       " 'nb_taxi',\n",
       " 'nb_urgence',\n",
       " 'nb_motoneige',\n",
       " 'nb_VHR',\n",
       " 'nb_autres_types',\n",
       " 'nb_veh_non_precise',\n",
       " 'NB_DECES_PIETON',\n",
       " 'NB_BLESSES_PIETON',\n",
       " 'NB_VICTIMES_PIETON',\n",
       " 'NB_DECES_MOTO',\n",
       " 'NB_BLESSES_MOTO',\n",
       " 'NB_VICTIMES_MOTO',\n",
       " 'NB_DECES_VELO',\n",
       " 'NB_BLESSES_VELO',\n",
       " 'NB_VICTIMES_VELO',\n",
       " 'VITESSE_AUTOR',\n",
       " 'LOC_X',\n",
       " 'LOC_Y',\n",
       " 'LOC_COTE_QD',\n",
       " 'LOC_COTE_PD',\n",
       " 'LOC_DETACHEE',\n",
       " 'LOC_IMPRECISION',\n",
       " 'LOC_LONG',\n",
       " 'LOC_LAT']"
      ]
     },
     "execution_count": 5,
     "metadata": {},
     "output_type": "execute_result"
    }
   ],
   "source": [
    "acc_df.columns"
   ]
  },
  {
   "cell_type": "code",
   "execution_count": 6,
   "metadata": {},
   "outputs": [
    {
     "name": "stdout",
     "output_type": "stream",
     "text": [
      "2012 2017\n"
     ]
    }
   ],
   "source": [
    "dates_df = extract_year_month_day(acc_df.select('DT_ACCDN')\n",
    "                                  .withColumn('date', to_date(col('DT_ACCDN'), format='yyyy/MM/dd'))).persist()\n",
    "rows = dates_df.select('year').summary(\"min\", \"max\").collect()\n",
    "min_ = rows[0]['year']\n",
    "max_ = rows[1]['year']\n",
    "print(min_, max_)"
   ]
  },
  {
   "cell_type": "code",
   "execution_count": 7,
   "metadata": {},
   "outputs": [
    {
     "name": "stdout",
     "output_type": "stream",
     "text": [
      "01/01/2012 01/01/2017\n",
      "06/04/2012 4\n"
     ]
    }
   ],
   "source": [
    "# function get_random_date\n",
    "import time\n",
    "import datetime\n",
    "import random\n",
    "start = \"01/01/\" + str(min_)\n",
    "end = \"01/01/\" + str(max_)\n",
    "print(start, end)\n",
    "start_stamp = datetime.datetime.strptime(start, \"%d/%m/%Y\").timestamp()\n",
    "end_stamp = datetime.datetime.strptime(end, \"%d/%m/%Y\").timestamp()\n",
    "random.seed()\n",
    "random_stamp = datetime.datetime.fromtimestamp(random.randint(start_stamp, end_stamp))\n",
    "date = random_stamp.strftime(\"%d/%m/%Y\")\n",
    "hour = random.randint(0,12)\n",
    "print(date, hour)"
   ]
  },
  {
   "cell_type": "code",
   "execution_count": 8,
   "metadata": {},
   "outputs": [],
   "source": [
    "# generate all dates from start to end\n",
    "date = datetime.datetime.strptime(start, \"%d/%m/%Y\")\n",
    "\n",
    "dates = list()\n",
    "while(date != datetime.datetime.strptime(end, \"%d/%m/%Y\")): \n",
    "    date += datetime.timedelta(days=1)\n",
    "    for i in range(24):\n",
    "        dates.append((date.strftime(\"%Y-%m-%d\"), i))"
   ]
  },
  {
   "cell_type": "code",
   "execution_count": 9,
   "metadata": {},
   "outputs": [],
   "source": [
    "sc = spark.sparkContext"
   ]
  },
  {
   "cell_type": "code",
   "execution_count": 10,
   "metadata": {},
   "outputs": [
    {
     "name": "stdout",
     "output_type": "stream",
     "text": [
      "nb_dates:  43848\n",
      "+----------+----+\n",
      "|      date|hour|\n",
      "+----------+----+\n",
      "|2012-01-02|   0|\n",
      "|2012-01-02|   1|\n",
      "|2012-01-02|   2|\n",
      "|2012-01-02|   3|\n",
      "|2012-01-02|   4|\n",
      "|2012-01-02|   5|\n",
      "|2012-01-02|   6|\n",
      "|2012-01-02|   7|\n",
      "|2012-01-02|   8|\n",
      "|2012-01-02|   9|\n",
      "+----------+----+\n",
      "\n"
     ]
    }
   ],
   "source": [
    "print(\"nb_dates: \",len(dates))\n",
    "spark.createDataFrame(dates, ['date', 'hour']).limit(10).show()\n",
    "dates_df = spark.createDataFrame(dates, ['date', 'hour']).persist()"
   ]
  },
  {
   "cell_type": "markdown",
   "metadata": {},
   "source": [
    "# location\n",
    "location (route) => coordinates of a road \n",
    "\n",
    "loc_lat, loc_long"
   ]
  },
  {
   "cell_type": "code",
   "execution_count": 11,
   "metadata": {},
   "outputs": [
    {
     "name": "stdout",
     "output_type": "stream",
     "text": [
      "Skip fetching road network: already downloaded\n",
      "Extracting road network dataframe...\n",
      "Extracting road network dataframe done\n"
     ]
    }
   ],
   "source": [
    "from pyspark.sql.functions import rand, monotonically_increasing_id\n",
    "from preprocess import generate_dates_df\n",
    "\n",
    "#dates_df = generate_dates_df(\"01/01/2012\", \"01/01/2017\", spark)\n",
    "road_df = (get_road_df(spark)\n",
    "               .select(['center_long', 'center_lat', 'street_id'])\n",
    "               .withColumnRenamed('center_lat', 'loc_lat')\n",
    "               .withColumnRenamed('center_long', 'loc_long')\n",
    "               .orderBy(rand())\n",
    "               .persist())\n",
    "sc = spark.sparkContext\n",
    "date_rdd = sc.parallelize(dates_df.rdd.take(20)).persist()\n",
    "road_rdd = sc.parallelize(road_df.rdd.take(20)).persist()\n"
   ]
  },
  {
   "cell_type": "code",
   "execution_count": 12,
   "metadata": {},
   "outputs": [
    {
     "name": "stdout",
     "output_type": "stream",
     "text": [
      "Skip fetching road network: already downloaded\n",
      "Extracting road network dataframe...\n",
      "Extracting road network dataframe done\n"
     ]
    },
    {
     "data": {
      "text/plain": [
       "['street_name',\n",
       " 'street_type',\n",
       " 'center_long',\n",
       " 'center_lat',\n",
       " 'coord_long',\n",
       " 'coord_lat',\n",
       " 'street_id']"
      ]
     },
     "execution_count": 12,
     "metadata": {},
     "output_type": "execute_result"
    }
   ],
   "source": [
    "get_road_df(spark).columns"
   ]
  },
  {
   "cell_type": "code",
   "execution_count": 13,
   "metadata": {},
   "outputs": [
    {
     "data": {
      "text/plain": [
       "ParallelCollectionRDD[59] at parallelize at PythonRDD.scala:195"
      ]
     },
     "execution_count": 13,
     "metadata": {},
     "output_type": "execute_result"
    }
   ],
   "source": [
    "road_rdd"
   ]
  },
  {
   "cell_type": "code",
   "execution_count": 14,
   "metadata": {},
   "outputs": [],
   "source": [
    "negatives = date_rdd.cartesian(road_rdd)"
   ]
  },
  {
   "cell_type": "code",
   "execution_count": 15,
   "metadata": {},
   "outputs": [
    {
     "data": {
      "text/plain": [
       "[(Row(date='2012-01-02', hour=0),\n",
       "  Row(loc_long=-73.6639965, loc_lat=45.4765787, street_id=1868792317)),\n",
       " (Row(date='2012-01-02', hour=0),\n",
       "  Row(loc_long=-73.5161412, loc_lat=45.63573, street_id=913716593)),\n",
       " (Row(date='2012-01-02', hour=1),\n",
       "  Row(loc_long=-73.6639965, loc_lat=45.4765787, street_id=1868792317)),\n",
       " (Row(date='2012-01-02', hour=1),\n",
       "  Row(loc_long=-73.5161412, loc_lat=45.63573, street_id=913716593)),\n",
       " (Row(date='2012-01-02', hour=0),\n",
       "  Row(loc_long=-73.552167, loc_lat=45.462587, street_id=1417951801)),\n",
       " (Row(date='2012-01-02', hour=0),\n",
       "  Row(loc_long=-73.4552443, loc_lat=45.7506666, street_id=361548870)),\n",
       " (Row(date='2012-01-02', hour=1),\n",
       "  Row(loc_long=-73.552167, loc_lat=45.462587, street_id=1417951801)),\n",
       " (Row(date='2012-01-02', hour=1),\n",
       "  Row(loc_long=-73.4552443, loc_lat=45.7506666, street_id=361548870)),\n",
       " (Row(date='2012-01-02', hour=0),\n",
       "  Row(loc_long=-73.6232114, loc_lat=45.7152018, street_id=1088193442)),\n",
       " (Row(date='2012-01-02', hour=0),\n",
       "  Row(loc_long=-73.776798, loc_lat=45.6502617, street_id=1430259433))]"
      ]
     },
     "execution_count": 15,
     "metadata": {},
     "output_type": "execute_result"
    }
   ],
   "source": [
    "negatives.take(10)"
   ]
  },
  {
   "cell_type": "code",
   "execution_count": 20,
   "metadata": {},
   "outputs": [
    {
     "name": "stdout",
     "output_type": "stream",
     "text": [
      "+----------+----+-----------+----------+----------+-----------+\n",
      "|      date|hour|   loc_long|   loc_lat| street_id|accident_id|\n",
      "+----------+----+-----------+----------+----------+-----------+\n",
      "|2012-01-02|   0|-73.6639965|45.4765787|1868792317|          0|\n",
      "|2012-01-02|   0|-73.5161412|  45.63573| 913716593|          1|\n",
      "|2012-01-02|   1|-73.6639965|45.4765787|1868792317|          2|\n",
      "|2012-01-02|   1|-73.5161412|  45.63573| 913716593|          3|\n",
      "|2012-01-02|   0| -73.552167| 45.462587|1417951801| 8589934592|\n",
      "|2012-01-02|   0|-73.4552443|45.7506666| 361548870| 8589934593|\n",
      "|2012-01-02|   1| -73.552167| 45.462587|1417951801| 8589934594|\n",
      "|2012-01-02|   1|-73.4552443|45.7506666| 361548870| 8589934595|\n",
      "|2012-01-02|   0|-73.6232114|45.7152018|1088193442|17179869184|\n",
      "|2012-01-02|   0| -73.776798|45.6502617|1430259433|17179869185|\n",
      "|2012-01-02|   1|-73.6232114|45.7152018|1088193442|17179869186|\n",
      "|2012-01-02|   1| -73.776798|45.6502617|1430259433|17179869187|\n",
      "|2012-01-02|   0|-73.8154341|45.7698406|1508135373|25769803776|\n",
      "|2012-01-02|   0|-73.4541031|45.6191024| 121895019|25769803777|\n",
      "|2012-01-02|   1|-73.8154341|45.7698406|1508135373|25769803778|\n",
      "|2012-01-02|   1|-73.4541031|45.6191024| 121895019|25769803779|\n",
      "|2012-01-02|   0|-73.7627403| 45.550406| 233775465|25769803780|\n",
      "|2012-01-02|   0| -73.856402|45.6599194| 468636845|25769803781|\n",
      "|2012-01-02|   1|-73.7627403| 45.550406| 233775465|25769803782|\n",
      "|2012-01-02|   1| -73.856402|45.6599194| 468636845|25769803783|\n",
      "+----------+----+-----------+----------+----------+-----------+\n",
      "only showing top 20 rows\n",
      "\n"
     ]
    }
   ],
   "source": [
    "negatives_df = negatives.map(lambda row: row[0] + row[1]).toDF(['date','hour','loc_long','loc_lat', 'street_id']).persist()\n",
    "negatives_df = negatives_df.withColumn('accident_id', monotonically_increasing_id())\n",
    "negatives_df.show()"
   ]
  },
  {
   "cell_type": "code",
   "execution_count": 21,
   "metadata": {},
   "outputs": [
    {
     "name": "stdout",
     "output_type": "stream",
     "text": [
      "+----------+----+-----------+----------+----------+-----------+----+\n",
      "|      date|hour|   loc_long|   loc_lat| street_id|accident_id|year|\n",
      "+----------+----+-----------+----------+----------+-----------+----+\n",
      "|2012-01-02|   0|-73.6639965|45.4765787|1868792317|          0|2012|\n",
      "|2012-01-02|   0|-73.5161412|  45.63573| 913716593|          1|2012|\n",
      "|2012-01-02|   1|-73.6639965|45.4765787|1868792317|          2|2012|\n",
      "|2012-01-02|   1|-73.5161412|  45.63573| 913716593|          3|2012|\n",
      "|2012-01-02|   0| -73.552167| 45.462587|1417951801| 8589934592|2012|\n",
      "|2012-01-02|   0|-73.4552443|45.7506666| 361548870| 8589934593|2012|\n",
      "|2012-01-02|   1| -73.552167| 45.462587|1417951801| 8589934594|2012|\n",
      "|2012-01-02|   1|-73.4552443|45.7506666| 361548870| 8589934595|2012|\n",
      "|2012-01-02|   0|-73.6232114|45.7152018|1088193442|17179869184|2012|\n",
      "|2012-01-02|   0| -73.776798|45.6502617|1430259433|17179869185|2012|\n",
      "|2012-01-02|   1|-73.6232114|45.7152018|1088193442|17179869186|2012|\n",
      "|2012-01-02|   1| -73.776798|45.6502617|1430259433|17179869187|2012|\n",
      "|2012-01-02|   0|-73.8154341|45.7698406|1508135373|25769803776|2012|\n",
      "|2012-01-02|   0|-73.4541031|45.6191024| 121895019|25769803777|2012|\n",
      "|2012-01-02|   1|-73.8154341|45.7698406|1508135373|25769803778|2012|\n",
      "|2012-01-02|   1|-73.4541031|45.6191024| 121895019|25769803779|2012|\n",
      "|2012-01-02|   0|-73.7627403| 45.550406| 233775465|25769803780|2012|\n",
      "|2012-01-02|   0| -73.856402|45.6599194| 468636845|25769803781|2012|\n",
      "|2012-01-02|   1|-73.7627403| 45.550406| 233775465|25769803782|2012|\n",
      "|2012-01-02|   1| -73.856402|45.6599194| 468636845|25769803783|2012|\n",
      "+----------+----+-----------+----------+----------+-----------+----+\n",
      "only showing top 20 rows\n",
      "\n"
     ]
    }
   ],
   "source": [
    "from pyspark.sql.functions import udf, col, year, month, dayofmonth\n",
    "from weather import extract_year_month_day\n",
    "negatives_df.withColumn('year', year(col('date'))).show()"
   ]
  },
  {
   "cell_type": "code",
   "execution_count": 22,
   "metadata": {},
   "outputs": [],
   "source": [
    "plus_weather = add_weather_columns(spark, negatives_df)\n"
   ]
  },
  {
   "cell_type": "code",
   "execution_count": 25,
   "metadata": {},
   "outputs": [
    {
     "name": "stdout",
     "output_type": "stream",
     "text": [
      "Skip fetching road network: already downloaded\n",
      "Extracting road network dataframe...\n",
      "Extracting road network dataframe done\n",
      "Extracting road features...\n",
      "Extracting road features: done\n",
      "+---------+--------------+----+---------+---------+-----------+----------+---------+---------+------------+----------+----+------------+-----------------+-----------+\n",
      "|street_id|Dew_Point_Temp|Hmdx|  Rel_Hum|Stn_Press|       Temp|Visibility| Wind_Dir| Wind_Spd| accident_id|      date|hour|street_level|    street_length|street_type|\n",
      "+---------+--------------+----+---------+---------+-----------+----------+---------+---------+------------+----------+----+------------+-----------------+-----------+\n",
      "|785993152|     1.6631544|null|78.631546| 99.20046|  5.0368457|      25.0|21.851366|22.549969| 60129542148|2012-01-02|   0|   Secondary|31.87846443044035|     street|\n",
      "|785993152|    0.16315441|null|73.631546| 99.19898|  4.5184226|      25.0|22.305481|30.022568| 60129542150|2012-01-02|   1|   Secondary|31.87846443044035|     street|\n",
      "|785993152|   -0.41053677|null| 73.44732| 99.19898|  3.9815772|      25.0|22.156845|26.346533|128849018884|2012-01-02|   2|   Secondary|31.87846443044035|     street|\n",
      "|785993152|    -1.1736912|null| 71.44732| 99.24046|  3.4552684|      25.0|22.156845|24.319838|128849018886|2012-01-02|   3|   Secondary|31.87846443044035|     street|\n",
      "|785993152|    -1.5658052|null|72.263084| 99.20741|        2.9|      25.0|22.156845|19.798584|197568495620|2012-01-02|   4|   Secondary|31.87846443044035|     street|\n",
      "|785993152|    -1.7289596|null| 74.07886| 99.14898|  2.4368455|      25.0|     22.0|21.187624|197568495622|2012-01-02|   5|   Secondary|31.87846443044035|     street|\n",
      "|785993152|     -1.784228|null| 74.89463| 99.12592|   2.218423|      25.0|21.851366|18.857512|266287972356|2012-01-02|   6|   Secondary|31.87846443044035|     street|\n",
      "|785993152|    -2.4105368|null|71.631546| 99.09287|  2.1631544|      25.0|     23.0|26.503378|266287972358|2012-01-02|   7|   Secondary|31.87846443044035|     street|\n",
      "|785993152|    -2.7289596|null| 72.89463| 99.08047|  1.6552684|      24.1|23.148634|28.336258|266287972364|2012-01-02|   8|   Secondary|31.87846443044035|     street|\n",
      "|785993152|     -2.965805|null| 71.89463| 99.10676|  1.5552684|      24.1|23.305481|27.434175|266287972366|2012-01-02|   9|   Secondary|31.87846443044035|     street|\n",
      "|785993152|    -3.2026508|null| 70.89463| 99.14825|  1.4184228|      24.1|     25.0|29.558178|335007449092|2012-01-02|  10|   Secondary|31.87846443044035|     street|\n",
      "|785993152|    -4.9683895|null| 61.10537| 99.14138|   1.792114|      24.1|26.156845| 35.65614|335007449094|2012-01-02|  11|   Secondary|31.87846443044035|     street|\n",
      "|785993152|     -6.118423|null|56.815773| 99.17676|  1.4552684|      24.1|26.156845|35.847237|403726925828|2012-01-02|  12|   Secondary|31.87846443044035|     street|\n",
      "|785993152|    -5.9289594|null|59.447315| 99.23676|  1.1815772|      24.1|26.537674|29.063011|403726925830|2012-01-02|  13|   Secondary|31.87846443044035|     street|\n",
      "|785993152|    -6.1473823|null| 59.26309| 99.28982|  0.9368456|      24.1|27.156845|27.395187|472446402564|2012-01-02|  14|   Secondary|31.87846443044035|     street|\n",
      "|785993152|     -6.184228|null| 62.26309|99.358894|0.081577204|      24.1|27.843155|23.128086|472446402566|2012-01-02|  15|   Secondary|31.87846443044035|     street|\n",
      "|785993152|     -8.210537|null| 58.26309| 99.47519| -1.1078861|      24.1|27.843155| 22.90823|541165879300|2012-01-02|  16|   Secondary|31.87846443044035|     street|\n",
      "|785993152|     -8.765805|null|62.710403|99.649086| -2.5894632|      25.0|28.156845|  21.2055|541165879302|2012-01-02|  17|   Secondary|31.87846443044035|     street|\n",
      "|785993152|    -10.828959|null| 60.26309| 99.84214| -4.2631545|      25.0|29.694519| 23.83288|541165879308|2012-01-02|  18|   Secondary|31.87846443044035|     street|\n",
      "|785993152|    -11.202651|null| 61.89463| 99.95833| -4.9631543|      25.0|28.148634| 22.61096|541165879310|2012-01-02|  19|   Secondary|31.87846443044035|     street|\n",
      "+---------+--------------+----+---------+---------+-----------+----------+---------+---------+------------+----------+----+------------+-----------------+-----------+\n",
      "only showing top 20 rows\n",
      "\n"
     ]
    }
   ],
   "source": [
    "from road_network import get_road_features_df\n",
    "road_features_df = get_road_features_df(spark, road_df=get_road_df(spark))\n",
    "plus_weather.drop('loc_long').drop('loc_lat').drop('Wind_Chill').join(road_features_df, 'street_id').show()"
   ]
  },
  {
   "cell_type": "markdown",
   "metadata": {},
   "source": [
    "# weather\n",
    "weather => year/month/day date + hour\n",
    "just query the API"
   ]
  },
  {
   "cell_type": "code",
   "execution_count": null,
   "metadata": {},
   "outputs": [],
   "source": []
  },
  {
   "cell_type": "code",
   "execution_count": null,
   "metadata": {},
   "outputs": [],
   "source": []
  },
  {
   "cell_type": "code",
   "execution_count": null,
   "metadata": {},
   "outputs": [],
   "source": []
  }
 ],
 "metadata": {
  "kernelspec": {
   "display_name": "AccidentsPredictionEnv",
   "language": "python",
   "name": "myenv"
  },
  "language_info": {
   "codemirror_mode": {
    "name": "ipython",
    "version": 3
   },
   "file_extension": ".py",
   "mimetype": "text/x-python",
   "name": "python",
   "nbconvert_exporter": "python",
   "pygments_lexer": "ipython3",
   "version": "3.7.2"
  }
 },
 "nbformat": 4,
 "nbformat_minor": 2
}
