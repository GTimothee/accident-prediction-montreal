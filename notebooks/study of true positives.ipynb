{
 "cells": [
  {
   "cell_type": "code",
   "execution_count": 1,
   "metadata": {
    "scrolled": false
   },
   "outputs": [],
   "source": [
    "cd .."
   ]
  },
  {
   "cell_type": "code",
   "execution_count": 2,
   "metadata": {
    "scrolled": false
   },
   "outputs": [],
   "source": [
    "from road_network import get_road_df\n",
    "from accidents_montreal import fetch_accidents_montreal,\\\n",
    "                               extract_accidents_montreal_df,\\\n",
    "                               get_accident_df\n",
    "from road_network import distance_intermediate_formula,\\\n",
    "                         distance_measure,\\\n",
    "                         get_road_features_df,\\\n",
    "                         get_road_df\n",
    "from weather import add_weather_columns, extract_year_month_day\n",
    "from pyspark.sql import SparkSession, Window\n",
    "from pyspark.sql.functions import row_number, col, rank, avg, split, to_date, \\\n",
    "                                  rand, monotonically_increasing_id\n",
    "from os.path import isdir\n",
    "from shutil import rmtree\n",
    "import datetime\n",
    "from preprocess import init_spark\n",
    "from preprocess import preprocess_accidents"
   ]
  },
  {
   "cell_type": "code",
   "execution_count": 3,
   "metadata": {
    "scrolled": false
   },
   "outputs": [
    {
     "name": "stdout",
     "output_type": "stream",
     "text": [
      "Skip fetching road network: already downloaded\n",
      "Skip extraction of road network dataframe: already done, reading from file\n"
     ]
    }
   ],
   "source": [
    "spark = init_spark()\n",
    "road_df = get_road_df(spark)"
   ]
  },
  {
   "cell_type": "code",
   "execution_count": null,
   "metadata": {
    "scrolled": true
   },
   "outputs": [],
   "source": []
  },
  {
   "cell_type": "code",
   "execution_count": 4,
   "metadata": {
    "scrolled": true
   },
   "outputs": [],
   "source": [
    "cache_path = 'data/positive-samples.parquet'\n",
    "replace_cache = True\n",
    "if isdir(cache_path):\n",
    "    try:\n",
    "        if replace_cache:\n",
    "            rmtree(cache_path)\n",
    "        else:\n",
    "            print('ah')\n",
    "    except Exception:\n",
    "        print('Failed reading from disk cache')\n",
    "        rmtree(cache_path)\n",
    "\n",
    "if road_df is None:\n",
    "    road_df = get_road_df(spark)\n",
    "    "
   ]
  },
  {
   "cell_type": "code",
   "execution_count": 5,
   "metadata": {
    "scrolled": false
   },
   "outputs": [
    {
     "name": "stdout",
     "output_type": "stream",
     "text": [
      "deleting dir\n",
      "False\n",
      "Skip fetching montreal accidents dataset: already downloaded\n"
     ]
    },
    {
     "data": {
      "text/plain": [
       "['NO_SEQ_COLL',\n",
       " 'JR_SEMN_ACCDN',\n",
       " 'DT_ACCDN',\n",
       " 'CD_MUNCP',\n",
       " 'NO_CIVIQ_ACCDN',\n",
       " 'SFX_NO_CIVIQ_ACCDN',\n",
       " 'BORNE_KM_ACCDN',\n",
       " 'RUE_ACCDN',\n",
       " 'TP_REPRR_ACCDN',\n",
       " 'ACCDN_PRES_DE',\n",
       " 'NB_METRE_DIST_ACCD',\n",
       " 'CD_GENRE_ACCDN',\n",
       " 'CD_SIT_PRTCE_ACCDN',\n",
       " 'CD_ETAT_SURFC',\n",
       " 'CD_ECLRM',\n",
       " 'CD_ENVRN_ACCDN',\n",
       " 'NO_ROUTE',\n",
       " 'CD_CATEG_ROUTE',\n",
       " 'CD_ETAT_CHASS',\n",
       " 'CD_ASPCT_ROUTE',\n",
       " 'CD_LOCLN_ACCDN',\n",
       " 'CD_POSI_ACCDN',\n",
       " 'CD_CONFG_ROUTE',\n",
       " 'CD_ZON_TRAVX_ROUTR',\n",
       " 'CD_PNT_CDRNL_ROUTE',\n",
       " 'CD_PNT_CDRNL_REPRR',\n",
       " 'CD_COND_METEO',\n",
       " 'NB_VEH_IMPLIQUES_ACCDN',\n",
       " 'NB_MORTS',\n",
       " 'NB_BLESSES_GRAVES',\n",
       " 'NB_BLESSES_LEGERS',\n",
       " 'HEURE_ACCDN',\n",
       " 'AN',\n",
       " 'NB_VICTIMES_TOTAL',\n",
       " 'GRAVITE',\n",
       " 'REG_ADM',\n",
       " 'MRC',\n",
       " 'nb_automobile_camion_leger',\n",
       " 'nb_camionLourd_tractRoutier',\n",
       " 'nb_outil_equipement',\n",
       " 'nb_tous_autobus_minibus',\n",
       " 'nb_bicyclette',\n",
       " 'nb_cyclomoteur',\n",
       " 'nb_motocyclette',\n",
       " 'nb_taxi',\n",
       " 'nb_urgence',\n",
       " 'nb_motoneige',\n",
       " 'nb_VHR',\n",
       " 'nb_autres_types',\n",
       " 'nb_veh_non_precise',\n",
       " 'NB_DECES_PIETON',\n",
       " 'NB_BLESSES_PIETON',\n",
       " 'NB_VICTIMES_PIETON',\n",
       " 'NB_DECES_MOTO',\n",
       " 'NB_BLESSES_MOTO',\n",
       " 'NB_VICTIMES_MOTO',\n",
       " 'NB_DECES_VELO',\n",
       " 'NB_BLESSES_VELO',\n",
       " 'NB_VICTIMES_VELO',\n",
       " 'VITESSE_AUTOR',\n",
       " 'LOC_X',\n",
       " 'LOC_Y',\n",
       " 'LOC_COTE_QD',\n",
       " 'LOC_COTE_PD',\n",
       " 'LOC_DETACHEE',\n",
       " 'LOC_IMPRECISION',\n",
       " 'LOC_LONG',\n",
       " 'LOC_LAT',\n",
       " 'ACCIDENT_ID']"
      ]
     },
     "execution_count": 5,
     "metadata": {},
     "output_type": "execute_result"
    }
   ],
   "source": [
    "from shutil import rmtree\n",
    "import os\n",
    "cache = 'data/accidents-montreal.parquet'\n",
    "if os.path.isdir(cache):\n",
    "    print('deleting dir')\n",
    "    rmtree(cache)\n",
    "    print(os.path.isdir(cache))\n",
    "accidents_df = get_accident_df(spark, True).persist()\n",
    "accidents_df.columns"
   ]
  },
  {
   "cell_type": "code",
   "execution_count": 6,
   "metadata": {
    "scrolled": true
   },
   "outputs": [],
   "source": [
    "\n",
    "    \n",
    "accidents_df = (accidents_df\n",
    "            .select('ACCIDENT_ID', 'DT_ACCDN', 'LOC_LAT',\n",
    "                    'LOC_LONG', 'HEURE_ACCDN')\n",
    "            .withColumn('date', to_date(col('DT_ACCDN'), format='yyyy/MM/dd'))\n",
    "            .withColumn(\"hour\", split(col('HEURE_ACCDN'), ':')[0].cast(\"int\"))\n",
    "            .drop('DT_ACCDN', 'HEURE_ACCDN')\n",
    "            .withColumnRenamed('LOC_LAT', 'loc_lat')\n",
    "            .withColumnRenamed('LOC_LONG', 'loc_long')\n",
    "            .withColumnRenamed('ACCIDENT_ID', 'accident_id')\n",
    "            .dropna()\n",
    "            .limit(20)).persist()"
   ]
  },
  {
   "cell_type": "code",
   "execution_count": 7,
   "metadata": {
    "scrolled": true
   },
   "outputs": [
    {
     "name": "stdout",
     "output_type": "stream",
     "text": [
      "Skip extracting road features: already done\n"
     ]
    }
   ],
   "source": [
    "from preprocess import match_accidents_with_roads\n",
    "road_features_df = get_road_features_df(spark, road_df=road_df)\n",
    "match_accident_road = match_accidents_with_roads(road_df, accidents_df)\n",
    "accident_with_weather = add_weather_columns(spark, accidents_df)\n",
    "positive_samples = extract_year_month_day(\n",
    "        accident_with_weather\n",
    "        .join(match_accident_road, 'accident_id')\n",
    "        .join(road_features_df, 'street_id'))\n",
    "\n",
    "positive_samples.write.parquet(cache_path)"
   ]
  },
  {
   "cell_type": "code",
   "execution_count": 8,
   "metadata": {
    "scrolled": false
   },
   "outputs": [
    {
     "name": "stdout",
     "output_type": "stream",
     "text": [
      "+----------+-----------+--------------+---------+---------+----------+-----------+----------+----------+---------+----------+----------+----+---------+----------+------------+------------------+-----------+----+-----+---+\n",
      "| street_id|accident_id|Dew_Point_Temp|     Hmdx|  Rel_Hum| Stn_Press|       Temp|Visibility|Wind_Chill| Wind_Dir|  Wind_Spd|      date|hour|  loc_lat|  loc_long|street_level|     street_length|street_type|year|month|day|\n",
      "+----------+-----------+--------------+---------+---------+----------+-----------+----------+----------+---------+----------+----------+----+---------+----------+------------+------------------+-----------+----+-----+---+\n",
      "|1262420041|         19|    0.88246626|     null| 72.13579| 100.61591|   5.527146|      25.0|      null|27.181822|  7.800327|2012-04-26|   0| 45.50203| -73.81524|     Primary|13.050115618030041|  boulevard|2012|    4| 26|\n",
      "|1424668385|          7|     7.3442655|     null| 74.98749|  100.2302|  11.638672|  20.46455|      null|22.147392|11.2098055|2012-09-23|   3|45.492817| -73.58043|     Primary| 67.35435585783831|     street|2012|    9| 23|\n",
      "| 779171578|          6|    -14.354461|     null| 70.95251| 102.20377| -10.083256| 22.404037|-17.226755| 4.299875| 17.035704|2012-12-16|   0|  45.4424|-73.650314|     Primary| 70.11870796183895|     street|2012|   12| 16|\n",
      "|1720073949|          9|     13.615602|     null| 67.90135| 100.58067|  19.795643|      25.0|      null|31.358585|  9.581147|2012-07-01|  22|45.471058| -73.83279|     Primary| 86.53628548991563|  boulevard|2012|    7|  1|\n",
      "|1626690880|         17|     -8.277505|     null| 49.39297| 100.97928|  1.0923893| 21.701057|      null|15.510557| 14.461411|2012-04-06|   4| 45.46723| -73.62228|     Primary| 86.86968686052195|     street|2012|    4|  6|\n",
      "|  72583503|          5|    -7.5148816|     null| 86.85529| 99.295906|  -5.648197|       1.6|-13.709957|25.922962| 31.330925|2012-12-22|  16|45.482162| -73.86218|     Primary| 10.07837521256537|  boulevard|2012|   12| 22|\n",
      "| 721610198|          1|    0.14793454|     null|82.477455| 99.065895|  2.8196173| 20.127972|      null|20.361158| 13.772046|2012-02-22|  16|45.482307| -73.58192|     Primary| 57.14568429330665|     street|2012|    2| 22|\n",
      "| 519990125|         10|     16.986547|     26.0| 84.63807| 100.64162|  19.680231| 18.999273|      null|22.696169| 6.8557186|2012-08-14|   5| 45.54244| -73.54412|     Primary| 9.459994190056344|     street|2012|    8| 14|\n",
      "| 378347115|          3|      12.05593|     null| 61.72269|101.313095|  19.665907| 36.432503|      null|22.153276| 10.569896|2012-08-22|   8| 45.50119|-73.632935|     Primary|15.143186646330511|     chemin|2012|    8| 22|\n",
      "|1357738481|         12|    -3.6900473|     null|62.095573| 100.34586|  2.8889265| 31.625212|      null|21.218315| 8.3840685|2012-02-17|  11|45.502567|-73.580475|     Primary| 87.21880373905533|     avenue|2012|    2| 17|\n",
      "|1248318149|          8|     14.358698|     28.0|53.092693| 100.41249|  24.521305| 22.803495|      null|25.087341|  9.798414|2012-07-07|  21|45.440033|-73.668495|     Primary| 69.61289637226933|     street|2012|    7|  7|\n",
      "|   2104194|         11|     -20.52435|     null| 67.59474| 100.45162| -15.896421| 19.121447|-22.105019|     26.0| 12.276154|2012-03-05|   6|45.518967| -73.54776|     Primary|300.69092844786144|     street|2012|    3|  5|\n",
      "|1272896296|          2|      8.349453|     null| 74.12849| 100.31978|  12.823755| 20.296488|      null|29.501598| 3.8190937|2012-06-09|   1|45.464138| -73.56454|     Primary| 87.08953453814453|  boulevard|2012|    6|  9|\n",
      "| 772128882|          4|     17.039692|36.508945|43.041832| 101.29685|  31.066256| 17.825714|      null|14.243931| 11.348542|2012-08-04|  14|45.519657|  -73.6156|     Primary| 86.40202906215048|     avenue|2012|    8|  4|\n",
      "|  75083714|         13|    -2.5073254|     null|     66.0| 100.35671|  3.1926746| 20.772913|      null|24.151386| 11.419837|2012-02-06|  17|45.567795| -73.61848|   Secondary|12.851717186775351|  boulevard|2012|    2|  6|\n",
      "| 144309940|         18|    -4.4798546|     null|88.973816| 100.14328| -2.9344654|  6.441832| -7.040133| 21.71811| 10.567719|2012-01-07|  17| 45.45916| -73.62696|     Primary|319.96511560388353|     street|2012|    1|  7|\n",
      "| 263887997|         14|      19.10609| 37.52574| 49.97897| 100.22941|  30.672516|  36.08621|      null|21.043734| 13.702691|2012-07-23|  14| 45.55251|-73.658844|   Secondary| 82.78871118061438|     street|2012|    7| 23|\n",
      "|1072941473|         15|     7.8372154| 28.74232| 27.29726| 101.11221|  28.522696| 37.505222|      null| 16.47672| 23.467115|2012-05-21|  15| 45.45465|-73.633446|     Primary|145.38975438795885|     street|2012|    5| 21|\n",
      "|1396329155|         20|      2.895406|     null| 75.32812|101.891754|  7.0123763|      25.0|      null|13.853857| 6.9482484|2012-03-23|   6|45.475716| -73.73141|   Secondary|12.673539201651195|       null|2012|    3| 23|\n",
      "|1130520833|         16|    -5.0158234|     null|  71.7146| 100.81243|-0.58680135| 23.060501|-5.2129955|23.891287| 16.782635|2012-02-18|   8| 45.47395|-73.706985|     Primary| 74.73060883747556|     chemin|2012|    2| 18|\n",
      "+----------+-----------+--------------+---------+---------+----------+-----------+----------+----------+---------+----------+----------+----+---------+----------+------------+------------------+-----------+----+-----+---+\n",
      "\n"
     ]
    }
   ],
   "source": [
    "positive_samples.show()"
   ]
  }
 ],
 "metadata": {
  "kernelspec": {
   "display_name": "AccidentsPredictionEnv",
   "language": "python",
   "name": "myenv"
  },
  "language_info": {
   "codemirror_mode": {
    "name": "ipython",
    "version": 3
   },
   "file_extension": ".py",
   "mimetype": "text/x-python",
   "name": "python",
   "nbconvert_exporter": "python",
   "pygments_lexer": "ipython3",
   "version": "3.7.2"
  }
 },
 "nbformat": 4,
 "nbformat_minor": 2
}
