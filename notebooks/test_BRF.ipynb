{
 "cells": [
  {
   "cell_type": "code",
   "execution_count": 1,
   "metadata": {},
   "outputs": [
    {
     "name": "stdout",
     "output_type": "stream",
     "text": [
      "/home/hantoine/Documents/Cours/Concordia/2019-Winter/SOEN_691_Big_Data_Analytics/project/accident-prediction-montreal\n"
     ]
    }
   ],
   "source": [
    "cd .."
   ]
  },
  {
   "cell_type": "code",
   "execution_count": 2,
   "metadata": {},
   "outputs": [],
   "source": [
    "from imblearn.datasets import fetch_datasets\n",
    "from sklearn.model_selection import train_test_split\n",
    "\n",
    "satimage = fetch_datasets()['satimage']\n",
    "X, y = satimage.data, satimage.target\n",
    "X_train, X_test, y_train, y_test = train_test_split(X, y, stratify=y,\n",
    "                                                    random_state=0)"
   ]
  },
  {
   "cell_type": "code",
   "execution_count": 3,
   "metadata": {},
   "outputs": [
    {
     "name": "stdout",
     "output_type": "stream",
     "text": [
      "Spark Session created\n",
      "Parameters:\n",
      "\tspark.driver.extraClassPath: ./data/xgboost4j-spark-0.72.jar:./data/xgboost4j-0.72.jar\n",
      "\tspark.network.timeout: 300s\n",
      "\tspark.master: local[10]\n",
      "\tspark.executor.id: driver\n",
      "\tspark.app.id: local-1555784829140\n",
      "\tspark.driver.host: laptop-hantoine.wireless.concordia.ca\n",
      "\tspark.app.name: Accident prediction\n",
      "\tspark.cleaner.periodicGC.interval: 5min\n",
      "\tspark.driver.port: 46865\n",
      "\tspark.serializer: org.apache.spark.serializer.KryoSerializer\n",
      "\tspark.driver.memory: 7g\n",
      "\tspark.rdd.compress: True\n",
      "\tspark.serializer.objectStreamReset: 100\n",
      "\tspark.submit.pyFiles: \n",
      "\tspark.submit.deployMode: client\n",
      "\tspark.ui.showConsoleProgress: true\n"
     ]
    },
    {
     "data": {
      "text/plain": [
       "'3.0.0-SNAPSHOT'"
      ]
     },
     "execution_count": 3,
     "metadata": {},
     "output_type": "execute_result"
    }
   ],
   "source": [
    "%matplotlib inline\n",
    "import sys\n",
    "sys.path.insert(0, '/home/hantoine/concordia/bigdata/project/spark/python')\n",
    "from utils import init_spark\n",
    "spark = init_spark()\n",
    "\n",
    "spark.version"
   ]
  },
  {
   "cell_type": "code",
   "execution_count": 4,
   "metadata": {},
   "outputs": [],
   "source": [
    "from pyspark.ml.linalg import Vectors\n",
    "from pyspark.sql.functions import lit, monotonically_increasing_id\n",
    "\n",
    "train_examples = map(lambda r: (Vectors.dense(r[0]), 0 if int(r[1]) == -1 else 1), zip(X_train, y_train))\n",
    "train_set = spark.createDataFrame(train_examples, schema=[\"features\", \"label\"])\n",
    "test_examples = map(lambda r: (Vectors.dense(r[0]), 0 if int(r[1]) == -1 else 1), zip(X_test, y_test))\n",
    "test_set = spark.createDataFrame(test_examples, schema=[\"features\", \"label\"])\n",
    "train_set = train_set.withColumn('id', monotonically_increasing_id())\n",
    "test_set = test_set.withColumn('id', -1 * monotonically_increasing_id() - 1)"
   ]
  },
  {
   "cell_type": "code",
   "execution_count": 5,
   "metadata": {},
   "outputs": [
    {
     "name": "stdout",
     "output_type": "stream",
     "text": [
      "9.289978678038379\n"
     ]
    }
   ],
   "source": [
    "from pyspark.ml.classification import RandomForestClassifier\n",
    "from pyspark.ml.evaluation import BinaryClassificationEvaluator\n",
    "from pyspark.ml.evaluation import MulticlassClassificationEvaluator\n",
    "from pyspark.ml.tuning import ParamGridBuilder, TrainValidationSplit, CrossValidator\n",
    "from pyspark.ml import Pipeline\n",
    "from random_undersampler import RandomUnderSampler\n",
    "from class_weighter import ClassWeighter\n",
    "from pyspark.sql.functions import col\n",
    "\n",
    "imbalance_ratio = (train_set.filter(col('label') == 0).count()\n",
    "                    / train_set.filter(col('label') == 1).count())\n",
    "\n",
    "print(imbalance_ratio)\n",
    "rf = RandomForestClassifier(labelCol=\"label\",\n",
    "                            featuresCol=\"features\",\n",
    "                            cacheNodeIds=True,\n",
    "                            maxDepth=30,\n",
    "                            impurity='gini',\n",
    "                            featureSubsetStrategy='sqrt',\n",
    "                            minInstancesPerNode=2,\n",
    "                            numTrees=50,\n",
    "                            subsamplingRate=1.0,\n",
    "                            maxMemoryInMB=768\n",
    "                           )\n",
    "brf = RandomForestClassifier(labelCol=\"label\",\n",
    "                            featuresCol=\"features\",\n",
    "                            cacheNodeIds=True,\n",
    "                            maxDepth=30,\n",
    "                            impurity='gini',\n",
    "                            featureSubsetStrategy='sqrt',\n",
    "                            weightCol='weight',\n",
    "                            minInstancesPerNode=2,\n",
    "                            numTrees=50,\n",
    "                            subsamplingRate=1.0,\n",
    "                            maxMemoryInMB=768\n",
    "                           )\n",
    "cw = ClassWeighter().setClassWeight([1/imbalance_ratio, 1.0])\n",
    "ru = (RandomUnderSampler()\n",
    "      .setIndexCol('id')\n",
    "      .setTargetImbalanceRatio(1.0))\n",
    "\n",
    "pipeline_urf = Pipeline().setStages([ru, rf])\n",
    "pipeline_rf = Pipeline().setStages([rf])\n",
    "pipeline_brf = Pipeline().setStages([cw, brf])\n",
    "\n",
    "model_rf = pipeline_rf.fit(train_set)\n",
    "model_urf = pipeline_urf.fit(train_set)\n",
    "model_brf = pipeline_brf.fit(train_set)\n",
    "pred_rf = model_rf.transform(test_set)\n",
    "pred_urf = model_urf.transform(test_set)\n",
    "pred_brf = model_brf.transform(test_set)"
   ]
  },
  {
   "cell_type": "code",
   "execution_count": 6,
   "metadata": {},
   "outputs": [],
   "source": [
    "from pyspark.sql.functions import when\n",
    "y_pred_rf_sp = pred_rf.select(when(col('prediction') == 0, -1).otherwise(1)).toPandas().values\n",
    "y_pred_brf_sp = pred_brf.select(when(col('prediction') == 0, -1).otherwise(1)).toPandas().values\n",
    "y_pred_urf_sp = pred_urf.select(when(col('prediction') == 0, -1).otherwise(1)).toPandas().values"
   ]
  },
  {
   "cell_type": "code",
   "execution_count": 7,
   "metadata": {},
   "outputs": [],
   "source": [
    "from sklearn.ensemble import RandomForestClassifier\n",
    "from imblearn.ensemble import BalancedRandomForestClassifier\n",
    "rf = RandomForestClassifier(n_estimators=50, random_state=0, n_jobs=-1)\n",
    "brf = BalancedRandomForestClassifier(n_estimators=50, random_state=0, n_jobs=-1)\n",
    "rf.fit(X_train, y_train)\n",
    "brf.fit(X_train, y_train)\n",
    "\n",
    "y_pred_rf = rf.predict(X_test)\n",
    "y_pred_brf = brf.predict(X_test)"
   ]
  },
  {
   "cell_type": "code",
   "execution_count": 8,
   "metadata": {},
   "outputs": [
    {
     "name": "stdout",
     "output_type": "stream",
     "text": [
      "imbalanced-learn rf\n"
     ]
    },
    {
     "data": {
      "text/plain": [
       "0.7266300819427629"
      ]
     },
     "execution_count": 8,
     "metadata": {},
     "output_type": "execute_result"
    }
   ],
   "source": [
    "from sklearn.metrics import balanced_accuracy_score\n",
    "print('imbalanced-learn rf')\n",
    "balanced_accuracy_score(y_test, y_pred_rf)"
   ]
  },
  {
   "cell_type": "code",
   "execution_count": 9,
   "metadata": {},
   "outputs": [
    {
     "name": "stdout",
     "output_type": "stream",
     "text": [
      "imbalanced-learn brf\n"
     ]
    },
    {
     "data": {
      "text/plain": [
       "0.8721706058851397"
      ]
     },
     "execution_count": 9,
     "metadata": {},
     "output_type": "execute_result"
    }
   ],
   "source": [
    "print('imbalanced-learn brf')\n",
    "balanced_accuracy_score(y_test, y_pred_brf)"
   ]
  },
  {
   "cell_type": "code",
   "execution_count": 10,
   "metadata": {},
   "outputs": [
    {
     "name": "stdout",
     "output_type": "stream",
     "text": [
      "spark brf\n"
     ]
    },
    {
     "data": {
      "text/plain": [
       "0.8685581933989577"
      ]
     },
     "execution_count": 10,
     "metadata": {},
     "output_type": "execute_result"
    }
   ],
   "source": [
    "print('spark brf')\n",
    "balanced_accuracy_score(y_test, y_pred_brf_sp)"
   ]
  },
  {
   "cell_type": "code",
   "execution_count": 11,
   "metadata": {},
   "outputs": [
    {
     "name": "stdout",
     "output_type": "stream",
     "text": [
      "spark rf\n"
     ]
    },
    {
     "data": {
      "text/plain": [
       "0.7178501868716114"
      ]
     },
     "execution_count": 11,
     "metadata": {},
     "output_type": "execute_result"
    }
   ],
   "source": [
    "print('spark rf')\n",
    "balanced_accuracy_score(y_test, y_pred_rf_sp)"
   ]
  },
  {
   "cell_type": "code",
   "execution_count": 12,
   "metadata": {},
   "outputs": [
    {
     "name": "stdout",
     "output_type": "stream",
     "text": [
      "spark urf\n"
     ]
    },
    {
     "data": {
      "text/plain": [
       "0.4794967626467337"
      ]
     },
     "execution_count": 12,
     "metadata": {},
     "output_type": "execute_result"
    }
   ],
   "source": [
    "print('spark urf')\n",
    "balanced_accuracy_score(y_test, y_pred_urf_sp)"
   ]
  },
  {
   "cell_type": "code",
   "execution_count": 13,
   "metadata": {},
   "outputs": [
    {
     "name": "stdout",
     "output_type": "stream",
     "text": [
      "Area Under PR = 0.7185115980077723\n",
      "F1 score = 0.9239390618578491\n"
     ]
    },
    {
     "data": {
      "text/plain": [
       "(0.7185115980077723, 0.9239390618578491)"
      ]
     },
     "execution_count": 13,
     "metadata": {},
     "output_type": "execute_result"
    }
   ],
   "source": [
    "from evaluate import evaluate_binary_classifier\n",
    "evaluate_binary_classifier(pred_rf)"
   ]
  },
  {
   "cell_type": "code",
   "execution_count": 14,
   "metadata": {},
   "outputs": [
    {
     "name": "stdout",
     "output_type": "stream",
     "text": [
      "Area Under PR = 0.7087076267293976\n",
      "F1 score = 0.91170921022685\n"
     ]
    },
    {
     "data": {
      "text/plain": [
       "(0.7087076267293976, 0.91170921022685)"
      ]
     },
     "execution_count": 14,
     "metadata": {},
     "output_type": "execute_result"
    }
   ],
   "source": [
    "evaluate_binary_classifier(pred_brf)"
   ]
  },
  {
   "cell_type": "code",
   "execution_count": 15,
   "metadata": {},
   "outputs": [
    {
     "name": "stdout",
     "output_type": "stream",
     "text": [
      "Area Under PR = 0.7013375047838261\n",
      "F1 score = 0.8909451530194905\n"
     ]
    },
    {
     "data": {
      "text/plain": [
       "(0.7013375047838261, 0.8909451530194905)"
      ]
     },
     "execution_count": 15,
     "metadata": {},
     "output_type": "execute_result"
    }
   ],
   "source": [
    "from evaluate import evaluate_binary_classifier\n",
    "evaluate_binary_classifier(pred_urf)"
   ]
  }
 ],
 "metadata": {
  "kernelspec": {
   "display_name": "accident-prediction-montreal",
   "language": "python",
   "name": "accident-prediction-montreal"
  },
  "language_info": {
   "codemirror_mode": {
    "name": "ipython",
    "version": 3
   },
   "file_extension": ".py",
   "mimetype": "text/x-python",
   "name": "python",
   "nbconvert_exporter": "python",
   "pygments_lexer": "ipython3",
   "version": "3.7.2"
  }
 },
 "nbformat": 4,
 "nbformat_minor": 2
}
