{
 "cells": [
  {
   "cell_type": "code",
   "execution_count": 1,
   "metadata": {},
   "outputs": [],
   "source": [
    "# credits: https://towardsdatascience.com/pyspark-and-xgboost-integration-tested-on-the-kaggle-titanic-dataset-4e75a568bdb"
   ]
  },
  {
   "cell_type": "code",
   "execution_count": 2,
   "metadata": {},
   "outputs": [],
   "source": [
    "from pyspark.sql import SparkSession\n",
    "from pyspark.ml import Pipeline\n",
    "from pyspark.sql.types import *\n",
    "from pyspark.sql.functions import col\n",
    "import numpy as np\n",
    "from pyspark.ml.feature import StringIndexer, VectorAssembler\n",
    "import os\n",
    "from utils import init_spark\n",
    "from preprocess import get_positive_samples, \\\n",
    "                       get_negative_samples, \\\n",
    "                       get_dataset_df\n",
    "os.environ['PYSPARK_SUBMIT_ARGS'] = '--jars data/xgboost4j-spark-0.72.jar,data/xgboost4j-0.72.jar pyspark-shell'"
   ]
  },
  {
   "cell_type": "code",
   "execution_count": 3,
   "metadata": {},
   "outputs": [],
   "source": [
    "spark = init_spark()\n",
    "spark.sparkContext.addPyFile(\"data/sparkxgb.zip\")\n",
    "from sparkxgb import XGBoostEstimator"
   ]
  },
  {
   "cell_type": "code",
   "execution_count": 4,
   "metadata": {},
   "outputs": [
    {
     "data": {
      "text/plain": [
       "'sc = spark.sparkContext\\nsc.setLogLevel(\"OFF\")'"
      ]
     },
     "execution_count": 4,
     "metadata": {},
     "output_type": "execute_result"
    }
   ],
   "source": [
    "#logger = spark._jvm.org.apache.log4j.Logger\n",
    "\"\"\"sc = spark.sparkContext\n",
    "sc.setLogLevel(\"OFF\")\"\"\""
   ]
  },
  {
   "cell_type": "code",
   "execution_count": null,
   "metadata": {},
   "outputs": [],
   "source": []
  },
  {
   "cell_type": "code",
   "execution_count": 35,
   "metadata": {},
   "outputs": [],
   "source": [
    "# load dataset\n",
    "neg_samples = get_negative_samples(spark).sample(0.01).na.fill(0)\n",
    "pos_samples = get_positive_samples(spark).sample(0.01).na.fill(0)\n"
   ]
  },
  {
   "cell_type": "code",
   "execution_count": 36,
   "metadata": {},
   "outputs": [
    {
     "data": {
      "text/plain": [
       "Row(features=DenseVector([8.0, 0.0, 65.1359, 1.0, 3.5555, 81.1241, 11.5592, 11.9497, 37.537, 101.0173, 0.0, 0.0, 15.1874, -0.866, 0.5, -0.0506, -0.9987, 0.0, 0.0, 0.0, 0.0, 1.0, 0.0, 0.0]))"
      ]
     },
     "execution_count": 36,
     "metadata": {},
     "output_type": "execute_result"
    }
   ],
   "source": [
    "df = get_dataset_df(spark, pos_samples, neg_samples).na.fill(0)\n",
    "df.select(\"features\").first()"
   ]
  },
  {
   "cell_type": "code",
   "execution_count": 41,
   "metadata": {},
   "outputs": [
    {
     "data": {
      "text/plain": [
       "['sample_id', 'street_id', 'date', 'hour', 'features', 'label']"
      ]
     },
     "execution_count": 41,
     "metadata": {},
     "output_type": "execute_result"
    }
   ],
   "source": [
    "\n",
    "df.columns"
   ]
  },
  {
   "cell_type": "code",
   "execution_count": 12,
   "metadata": {},
   "outputs": [
    {
     "data": {
      "text/plain": [
       "Row(features=DenseVector([2.0, 0.0, 46.4936, 1.0, 13.6173, 86.6271, 5.9996, 10.2858, 26.8006, 101.5087, nan, nan, 12.2525, -0.0, -1.0, -0.9541, -0.2994, 0.0, 0.0, 0.0, 0.0, 0.0, 0.0, 0.0]))"
      ]
     },
     "execution_count": 12,
     "metadata": {},
     "output_type": "execute_result"
    }
   ],
   "source": [
    "\"\"\"feature_list = [e for e in list(df.columns) if e != \"label\" and e!=\"date\"]\n",
    "df.columns\n",
    "feature_list\"\"\""
   ]
  },
  {
   "cell_type": "code",
   "execution_count": 8,
   "metadata": {},
   "outputs": [],
   "source": [
    "# create transformers if needed"
   ]
  },
  {
   "cell_type": "code",
   "execution_count": 9,
   "metadata": {},
   "outputs": [],
   "source": [
    "#create one vector to feed xgboost\n",
    "\"\"\"vectorAssembler = VectorAssembler()\\\n",
    "  .setInputCols(feature_list)\\\n",
    "  .setOutputCol(\"features\")\"\"\""
   ]
  },
  {
   "cell_type": "code",
   "execution_count": 37,
   "metadata": {},
   "outputs": [],
   "source": [
    "#create xgboost estimator\n",
    "xgboost = XGBoostEstimator(\n",
    "    featuresCol=\"features\", \n",
    "    labelCol=\"label\", \n",
    "    predictionCol=\"prediction\"\n",
    ")"
   ]
  },
  {
   "cell_type": "code",
   "execution_count": 38,
   "metadata": {},
   "outputs": [],
   "source": [
    "#run pipeline\n",
    "\n",
    "pipeline = Pipeline().setStages([xgboost])"
   ]
  },
  {
   "cell_type": "code",
   "execution_count": 39,
   "metadata": {},
   "outputs": [],
   "source": [
    "trainDF, testDF = df.randomSplit([0.7, 0.3], seed=0)"
   ]
  },
  {
   "cell_type": "code",
   "execution_count": null,
   "metadata": {},
   "outputs": [],
   "source": [
    "cd .."
   ]
  },
  {
   "cell_type": "code",
   "execution_count": 40,
   "metadata": {},
   "outputs": [],
   "source": [
    "model = pipeline.fit(trainDF)\n",
    "workdir = \"./\"\n",
    "model.save(workdir + 'data/xgboost.model')"
   ]
  },
  {
   "cell_type": "code",
   "execution_count": 45,
   "metadata": {},
   "outputs": [],
   "source": [
    "# evaluate\n",
    "from pyspark.sql.functions import col\n",
    "result_df = model.transform(testDF) "
   ]
  },
  {
   "cell_type": "code",
   "execution_count": 46,
   "metadata": {},
   "outputs": [
    {
     "name": "stdout",
     "output_type": "stream",
     "text": [
      "+------------+-------------+----------+----+--------------------+-----+--------------------+----------+\n",
      "|   sample_id|    street_id|      date|hour|            features|label|       probabilities|prediction|\n",
      "+------------+-------------+----------+----+--------------------+-----+--------------------+----------+\n",
      "| 17179869260|1228360647074|2012-07-18|  14|[14.0,1.0,14.2569...|  1.0|[0.72101521492004...|       0.0|\n",
      "| 42949673263|1391569404034|2015-02-27|   5|[5.0,0.0,77.82135...|  1.0|[0.73417460918426...|       0.0|\n",
      "| 42949673432|1683627180381|2015-07-10|  16|[16.0,1.0,66.3288...|  1.0|[0.73479843139648...|       0.0|\n",
      "| 51539607942|1700807049520|2013-05-10|  23|[23.0,0.0,413.056...|  1.0|[0.72878766059875...|       0.0|\n",
      "| 60129542539| 687194767514|2015-01-08|   8|[8.0,0.0,308.9331...|  1.0|[0.71544170379638...|       0.0|\n",
      "|206158430499| 214748364884|2013-10-15|   7|[7.0,0.0,9.669973...|  1.0|[0.69635999202728...|       0.0|\n",
      "|214748365287|1374389534816|2016-03-28|  21|[21.0,1.0,55.4941...|  1.0|[0.73479843139648...|       0.0|\n",
      "|223338299967|  42949673127|2016-07-03|  12|[12.0,0.0,52.9167...|  1.0|[0.72388517856597...|       0.0|\n",
      "|249108103434|1022202216518|2013-02-09|  18|[18.0,0.0,35.0765...|  1.0|[0.72878766059875...|       0.0|\n",
      "|249108103647| 197568495702|2016-05-02|  17|(24,[0,2,4,5,6,7,...|  1.0|[0.69138765335083...|       0.0|\n",
      "|283467841726| 755914244450|2013-03-12|   0|(24,[2,3,4,5,6,7,...|  1.0|[0.73417460918426...|       0.0|\n",
      "|343597383763| 807453851717|2012-12-01|   4|[4.0,1.0,224.8703...|  1.0|[0.73834264278411...|       0.0|\n",
      "|352187318465| 412316860792|2013-05-18|  11|(24,[0,2,3,4,5,6,...|  1.0|[0.71544170379638...|       0.0|\n",
      "|352187318985| 446676598868|2016-08-18|  15|[15.0,0.0,66.1680...|  1.0|[0.69138765335083...|       0.0|\n",
      "|369367188075| 541165879395|2016-05-23|   2|[2.0,1.0,144.9182...|  1.0|[0.73834264278411...|       0.0|\n",
      "|386547056951| 893353197954|2014-08-16|  15|(24,[0,1,2,4,5,6,...|  1.0|[0.73479843139648...|       0.0|\n",
      "|403726925869|  77309411505|2012-12-11|   7|[7.0,1.0,55.07957...|  1.0|[0.73479843139648...|       0.0|\n",
      "|412316860659| 377957122225|2013-01-25|  12|[12.0,1.0,75.3511...|  1.0|[0.73479843139648...|       0.0|\n",
      "|446676599249|1082331758665|2016-09-17|   1|(24,[0,2,4,5,6,7,...|  1.0|[0.73417460918426...|       0.0|\n",
      "|455266533859|   8589934865|2016-09-03|  14|[14.0,2.0,5.00721...|  1.0|[0.57760941982269...|       0.0|\n",
      "+------------+-------------+----------+----+--------------------+-----+--------------------+----------+\n",
      "only showing top 20 rows\n",
      "\n"
     ]
    }
   ],
   "source": [
    "result_df.show()"
   ]
  },
  {
   "cell_type": "code",
   "execution_count": 47,
   "metadata": {},
   "outputs": [
    {
     "name": "stdout",
     "output_type": "stream",
     "text": [
      "Area Under PR = 0.08375637638647783\n",
      "F1 score = 0.9558377880077036\n"
     ]
    }
   ],
   "source": [
    "from evaluate import evaluate_binary_classifier\n",
    "\n",
    "# Evaluate model\n",
    "result_df = result_df.withColumn(\"rawPrediction\", result_df['probabilities'])\n",
    "area_under_PR, f1_score = evaluate_binary_classifier(result_df)\n"
   ]
  },
  {
   "cell_type": "code",
   "execution_count": null,
   "metadata": {},
   "outputs": [],
   "source": []
  }
 ],
 "metadata": {
  "kernelspec": {
   "display_name": "AccidentsPredictionEnv",
   "language": "python",
   "name": "myenv"
  },
  "language_info": {
   "codemirror_mode": {
    "name": "ipython",
    "version": 3
   },
   "file_extension": ".py",
   "mimetype": "text/x-python",
   "name": "python",
   "nbconvert_exporter": "python",
   "pygments_lexer": "ipython3",
   "version": "3.7.2"
  }
 },
 "nbformat": 4,
 "nbformat_minor": 2
}
