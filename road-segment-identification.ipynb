{
 "cells": [
  {
   "cell_type": "code",
   "execution_count": 1,
   "metadata": {},
   "outputs": [],
   "source": [
    "from road_network import fetch_road_network, extract_road_segments_DF\n",
    "from accidents_montreal import fetch_accidents_montreal, extract_accidents_montreal_dataframe\n",
    "from weather import get_weather\n",
    "from pyspark.sql import SparkSession, Window\n",
    "from pyspark.sql.functions import pow, col, min, udf, monotonically_increasing_id, sin, cos, radians\n",
    "from pyspark.sql.functions import atan2, sqrt, rank, hash, abs, row_number, avg, conv, rint\n",
    "from pyspark.sql.types import StringType\n",
    "from math import fabs as mabs\n",
    "import sys\n",
    "import os"
   ]
  },
  {
   "cell_type": "code",
   "execution_count": 2,
   "metadata": {},
   "outputs": [],
   "source": [
    "def init_spark():\n",
    "    spark = (SparkSession\n",
    "        .builder\n",
    "        .appName(\"Accident Prediction\")\n",
    "        .getOrCreate())\n",
    "    return spark\n",
    "spark = init_spark()"
   ]
  },
  {
   "cell_type": "code",
   "execution_count": 3,
   "metadata": {},
   "outputs": [
    {
     "name": "stdout",
     "output_type": "stream",
     "text": [
      "45°32'30.10\"N 73°36'36.83\"W\n"
     ]
    }
   ],
   "source": [
    "def degree_to_DMS(lat, long):\n",
    "    return (f\"{int(mabs(lat))}°{int(mabs(lat)%1*60):.0f}'{(60*(((mabs(lat)%1)*60)%1)):.2f}\\\"N \" +\n",
    "        f\"{int(mabs(long))}°{int(mabs(long)%1*60):.0f}'{(60*(((mabs(long)%1)*60)%1)):.2f}\\\"W\")\n",
    "print(degree_to_DMS(45.541695,-73.61023))\n",
    "lat = -73.61023"
   ]
  },
  {
   "cell_type": "code",
   "execution_count": 4,
   "metadata": {},
   "outputs": [
    {
     "name": "stdout",
     "output_type": "stream",
     "text": [
      "Skip fetching road network: already downloaded\n",
      "Skip extraction of road network dataframe: already done, reading from file\n"
     ]
    }
   ],
   "source": [
    "fetch_road_network()\n",
    "rnd = extract_road_segments_DF(spark)"
   ]
  },
  {
   "cell_type": "code",
   "execution_count": 5,
   "metadata": {},
   "outputs": [
    {
     "name": "stdout",
     "output_type": "stream",
     "text": [
      "Skip fetching montreal accidents dataset: already downloaded\n",
      "Skip extraction of accidents montreal dataframe: already done, reading from file\n"
     ]
    }
   ],
   "source": [
    "fetch_accidents_montreal()\n",
    "amd = extract_accidents_montreal_dataframe(spark)"
   ]
  },
  {
   "cell_type": "code",
   "execution_count": 6,
   "metadata": {},
   "outputs": [
    {
     "name": "stdout",
     "output_type": "stream",
     "text": [
      "Selected sample of 95159 roads\n",
      "Selected sample of 176 accidents\n"
     ]
    }
   ],
   "source": [
    "road_centers = (rnd\n",
    "                .select(['street_id', 'street_name', 'street_type', 'center_long', 'center_lat'])\n",
    "                .drop_duplicates()\n",
    "                .persist())\n",
    "sample_accidents = amd.sample(0.001)\n",
    "print(f\"Selected sample of {road_centers.count()} roads\")\n",
    "print(f\"Selected sample of {sample_accidents.count()} accidents\")"
   ]
  },
  {
   "cell_type": "markdown",
   "metadata": {},
   "source": [
    "# Test preprocess function"
   ]
  },
  {
   "cell_type": "code",
   "execution_count": 10,
   "metadata": {},
   "outputs": [
    {
     "name": "stdout",
     "output_type": "stream",
     "text": [
      "+-------------+----------+\n",
      "|  ACCIDENT_ID| street_id|\n",
      "+-------------+----------+\n",
      "|1391569404362| 541424963|\n",
      "| 670014898363| 845059405|\n",
      "|1709396984529| 748834309|\n",
      "|1005022347993|1908015220|\n",
      "|  25769803871|1787623946|\n",
      "|1494648619236|1429650182|\n",
      "|1382979469585| 143884344|\n",
      "| 506806141269|1138308306|\n",
      "| 214748365481| 114209011|\n",
      "| 910533067178| 372260410|\n",
      "|1503238553709|1118321050|\n",
      "|1348619730956|2038544023|\n",
      "| 343597383806| 112208452|\n",
      "| 412316860470| 996478651|\n",
      "| 858993459314|2088518077|\n",
      "|  25769804479|1067710633|\n",
      "|1443109011489|1188637550|\n",
      "|1400159339160| 801610511|\n",
      "| 730144440322| 455627072|\n",
      "|1666447311316| 313702200|\n",
      "+-------------+----------+\n",
      "only showing top 20 rows\n",
      "\n",
      "176\n",
      "176\n"
     ]
    }
   ],
   "source": [
    "from preprocess import match_accidents_with_roads\n",
    "\n",
    "matches = match_accidents_with_roads(rnd, sample_accidents)\n",
    "matches.show()\n",
    "print(sample_accidents.count())\n",
    "print(matches.count())"
   ]
  },
  {
   "cell_type": "markdown",
   "metadata": {},
   "source": [
    "# End test"
   ]
  },
  {
   "cell_type": "code",
   "execution_count": 18,
   "metadata": {},
   "outputs": [],
   "source": [
    "# Source: https://www.movable-type.co.uk/scripts/latlong.html\n",
    "earth_diameter = 6371 * 2 * 1000 # in meter\n",
    "def distance_intermediate_formul(lat1, long1, lat2, long2):\n",
    "    return (pow(sin(radians(col(lat1) - col(lat2))/2), 2)\n",
    "            + (pow(sin(radians(col(long1) - col(long2))/2), 2) \n",
    "                * cos(radians(col(lat1))) * cos(radians(col(lat2)))))\n",
    "distance_measure = atan2(sqrt(col('distance_inter')), sqrt(1-col('distance_inter')))"
   ]
  },
  {
   "cell_type": "markdown",
   "metadata": {},
   "source": [
    "# Parameters"
   ]
  },
  {
   "cell_type": "code",
   "execution_count": 19,
   "metadata": {},
   "outputs": [],
   "source": [
    "nb_top_road_center_preselected = 5\n",
    "max_distance_accepted = 10 # in meters"
   ]
  },
  {
   "cell_type": "code",
   "execution_count": 20,
   "metadata": {},
   "outputs": [
    {
     "name": "stdout",
     "output_type": "stream",
     "text": [
      "+-------------+----------+---------+----------+\n",
      "|  ACCIDENT_ID| street_id|  LOC_LAT|  LOC_LONG|\n",
      "+-------------+----------+---------+----------+\n",
      "| 549755813928|1648199549| 45.49889| -73.56224|\n",
      "| 549755813928|1575796321| 45.49889| -73.56224|\n",
      "| 549755813928|1311753815| 45.49889| -73.56224|\n",
      "| 549755813928|1947818980| 45.49889| -73.56224|\n",
      "| 549755813928| 716870755| 45.49889| -73.56224|\n",
      "| 652835029049|1000643935|45.499893| -73.56596|\n",
      "| 652835029049|1928234879|45.499893| -73.56596|\n",
      "| 652835029049|    922576|45.499893| -73.56596|\n",
      "| 652835029049|1648726532|45.499893| -73.56596|\n",
      "| 652835029049|1170194706|45.499893| -73.56596|\n",
      "|1142461301222|2055454547| 45.47162|-73.613754|\n",
      "|1142461301222|1765955708| 45.47162|-73.613754|\n",
      "|1142461301222| 334197242| 45.47162|-73.613754|\n",
      "|1142461301222| 806718475| 45.47162|-73.613754|\n",
      "|1142461301222|1228812616| 45.47162|-73.613754|\n",
      "| 592705487425| 658190714| 45.49538| -73.56088|\n",
      "| 592705487425| 573124083| 45.49538| -73.56088|\n",
      "| 592705487425|1957202794| 45.49538| -73.56088|\n",
      "| 592705487425|1076641516| 45.49538| -73.56088|\n",
      "| 592705487425| 940799130| 45.49538| -73.56088|\n",
      "+-------------+----------+---------+----------+\n",
      "only showing top 20 rows\n",
      "\n"
     ]
    }
   ],
   "source": [
    "degree_to_DMS_UDF = udf(degree_to_DMS, StringType())\n",
    "\n",
    "# Compute distance between accident and road centers to identify the top nb_top_road_center_preselected closest roads\n",
    "accidentWindow = Window.partitionBy(\"ACCIDENT_ID\").orderBy(\"distance_measure\")\n",
    "accidents_top_k_roads = (sample_accidents\n",
    "        .select('LOC_LAT', 'LOC_LONG', 'ACCIDENT_ID')\n",
    "        .crossJoin(road_centers)\n",
    "        .withColumn('distance_inter', distance_inter('LOC_LAT', 'LOC_LONG', 'center_lat', 'center_long'))\n",
    "        .withColumn('distance_measure', distance_measure)\n",
    "        .select('ACCIDENT_ID', 'street_id', 'distance_measure', 'LOC_LAT', 'LOC_LONG',\n",
    "               rank().over(accidentWindow).alias('distance_rank'))\n",
    "        .filter(col('distance_rank') <= nb_top_road_center_preselected)\n",
    "        .drop('distance_measure', 'distance_rank')\n",
    "        .persist())\n",
    "accidents_top_k_roads.show()"
   ]
  },
  {
   "cell_type": "code",
   "execution_count": 86,
   "metadata": {},
   "outputs": [
    {
     "name": "stdout",
     "output_type": "stream",
     "text": [
      "+-------------+----------+\n",
      "|  ACCIDENT_ID| street_id|\n",
      "+-------------+----------+\n",
      "| 549755813928|1648199549|\n",
      "| 652835029049|1000643935|\n",
      "|1142461301222|2055454547|\n",
      "| 592705487425| 658190714|\n",
      "| 609885356553|1926341698|\n",
      "|1340029796354|1645977632|\n",
      "|1511828488243|1121234898|\n",
      "|          677| 683515792|\n",
      "| 962072674896|1695987729|\n",
      "| 214748365007| 152730429|\n",
      "|1322849927827|1258876348|\n",
      "| 523986010346|1613469741|\n",
      "| 816043786746|1824439941|\n",
      "|1279900254698| 549880162|\n",
      "| 171798692143|1400054421|\n",
      "| 300647711308| 492773211|\n",
      "| 850403525297| 681483415|\n",
      "| 386547057013|1101431915|\n",
      "| 876173328859|1805128626|\n",
      "|1563368096346|1399926608|\n",
      "+-------------+----------+\n",
      "only showing top 20 rows\n",
      "\n"
     ]
    },
    {
     "data": {
      "text/plain": [
       "144"
      ]
     },
     "execution_count": 86,
     "metadata": {},
     "output_type": "execute_result"
    }
   ],
   "source": [
    "# For each accident identify road point closest \n",
    "accidents_roads_first_match = (accidents_top_k_roads\n",
    "        .join(rnd, 'street_id')\n",
    "        .withColumn('distance_inter', distance_inter('LOC_LAT', 'LOC_LONG', 'coord_lat', 'coord_long'))\n",
    "        .withColumn('distance_measure', distance_measure)\n",
    "        .select('ACCIDENT_ID', 'LOC_LAT', 'LOC_LONG', 'coord_lat', 'coord_long', 'street_id', 'street_name', \n",
    "                row_number().over(accidentWindow).alias('distance_rank'), 'distance_measure')\n",
    "        .filter(col('distance_rank') == 1)\n",
    "        .withColumn('distance', col('distance_measure')*earth_diameter)\n",
    "        .drop('distance_rank', 'distance_measure', 'LOC_LAT', 'LOC_LONG', 'coord_lat', 'coord_long')\n",
    "        .persist())\n",
    "\n",
    "# If the distance is lower than max_distance_accepted we keep the accident/street matches\n",
    "accidents_road_correct_match = (accidents_roads_first_match\n",
    "                                .filter(col('distance') < max_distance_accepted)\n",
    "                                .select('ACCIDENT_ID', 'street_id'))\n",
    "\n",
    "# If not, we try to get a better match by adding intermediate points on the preselected streets\n",
    "\n",
    "# For unsatisfying matches, retrieves the top nb_top_road_center_preselected streets with their points \n",
    "accidents_close_streets_coords = (accidents_roads_first_match\n",
    "        .filter(col('distance') >= max_distance_accepted)\n",
    "        .select('ACCIDENT_ID')\n",
    "        .join(accidents_top_k_roads, 'ACCIDENT_ID')\n",
    "        .join(rnd, 'street_id')\n",
    "        .select('ACCIDENT_ID', 'street_id', 'LOC_LAT', 'LOC_LONG', 'coord_long', 'coord_lat')\n",
    "        .persist())\n",
    "\n",
    "# Add the intermediate points\n",
    "street_rolling_window = Window.partitionBy('street_id').orderBy(\"coord_long\").rowsBetween(0, +1)\n",
    "accidents_close_streets_with_additional_coords = \\\n",
    "    (accidents_close_streets_coords\n",
    "     .select('ACCIDENT_ID', 'street_id', 'LOC_LAT', 'LOC_LONG',\n",
    "             avg('coord_long').over(street_rolling_window).alias('coord_long'),\n",
    "             avg('coord_lat').over(street_rolling_window).alias('coord_lat'))\n",
    "     .union(accidents_close_streets_coords)\n",
    "     .dropDuplicates())\n",
    "\n",
    "# Recompute distances between accident and new set of points and use closest point to identify street\n",
    "accidents_roads_first_match_with_additional_coords = \\\n",
    "    (accidents_close_streets_with_additional_coords\n",
    "     .withColumn('distance_inter', distance_inter('LOC_LAT', 'LOC_LONG', 'coord_lat', 'coord_long'))\n",
    "     .withColumn('distance_measure', distance_measure)\n",
    "     .select('ACCIDENT_ID', 'street_id', 'LOC_LAT', 'LOC_LONG', 'coord_lat', 'coord_long', \n",
    "                row_number().over(accidentWindow).alias('distance_rank'))\n",
    "     .filter(col('distance_rank') == 1)\n",
    "     .drop('distance_rank', 'LOC_LAT', 'LOC_LONG', 'coord_lat', 'coord_long'))\n",
    "\n",
    "# Union accidents matched correctly with first method with the accidents for which we used more street points\n",
    "accidents_road_correct_final_match =(accidents_road_correct_match\n",
    "                                     .union(accidents_roads_first_match_with_additional_coords))\n",
    "\n",
    "accidents_road_correct_final_match.show()\n",
    "accidents_road_correct_final_match.count()"
   ]
  },
  {
   "cell_type": "markdown",
   "metadata": {},
   "source": [
    "# Comparaison of new results with previous results"
   ]
  },
  {
   "cell_type": "code",
   "execution_count": 77,
   "metadata": {},
   "outputs": [
    {
     "name": "stdout",
     "output_type": "stream",
     "text": [
      "Distance still high\n",
      "+---------------------------+------------+--------+-----------------------+-----------------------+\n",
      "|LOC                        |old_distance|distance|old_street_name        |street_name            |\n",
      "+---------------------------+------------+--------+-----------------------+-----------------------+\n",
      "|45°27'29.10\"N 73°46'49.95\"W|73.0        |56.0    |Avenue Deslauriers     |Avenue Deslauriers     |\n",
      "|45°32'56.36\"N 73°39'59.50\"W|22.0        |22.0    |Boulevard Saint-Laurent|Boulevard Saint-Laurent|\n",
      "|45°33'22.97\"N 73°33'37.34\"W|40.0        |40.0    |Boulevard Pie-IX       |Boulevard Pie-IX       |\n",
      "+---------------------------+------------+--------+-----------------------+-----------------------+\n",
      "\n",
      "Street changed: \n",
      "+---------------------------+------------+--------+------------------------------+--------------------+\n",
      "|LOC                        |old_distance|distance|old_street_name               |street_name         |\n",
      "+---------------------------+------------+--------+------------------------------+--------------------+\n",
      "|45°32'19.70\"N 73°40'45.45\"W|59.0        |15.0    |Boulevard Henri-Bourassa Ouest|Rue De Saint-Réal   |\n",
      "|45°29'53.38\"N 73°38'55.28\"W|16.0        |16.0    |Rue Jean-Talon Ouest          |Rue Jean-Talon Ouest|\n",
      "|45°28'4.86\"N 73°49'47.05\"W |55.0        |12.0    |Boulevard Brunswick           |Boulevard Saint-Jean|\n",
      "+---------------------------+------------+--------+------------------------------+--------------------+\n",
      "\n",
      "Number of detected high distance: 17\n"
     ]
    }
   ],
   "source": [
    "print('Distance still high')\n",
    "(accidents_roads_first_match\n",
    " .filter(col('distance') >= max_distance_accepted)\n",
    " .withColumnRenamed('distance', 'old_distance')\n",
    "  .withColumnRenamed('street_name', 'old_street_name')\n",
    "   .withColumnRenamed('street_id', 'old_street_id')\n",
    " .join(accidents_roads_first_match_with_additional_coords, 'ACCIDENT_ID')\n",
    " .join(sample_accidents, 'ACCIDENT_ID')\n",
    " .withColumn('LOC', degree_to_DMS_UDF(col('LOC_LAT'), col('LOC_LONG')))\n",
    " .select('LOC', rint(col('old_distance')).alias('old_distance'), rint(col('distance')).alias('distance'), 'old_street_name', 'street_name')#, 'old_street_id', 'street_id')\n",
    " .filter(col('distance') > 20)\n",
    " .show(truncate=False))\n",
    "print('Street changed: ')\n",
    "(accidents_roads_first_match\n",
    " .filter(col('distance') >= max_distance_accepted)\n",
    " .withColumnRenamed('distance', 'old_distance')\n",
    "  .withColumnRenamed('street_name', 'old_street_name')\n",
    "   .withColumnRenamed('street_id', 'old_street_id')\n",
    " .join(accidents_roads_first_match_with_additional_coords, 'ACCIDENT_ID')\n",
    " .join(sample_accidents, 'ACCIDENT_ID')\n",
    " .withColumn('LOC', degree_to_DMS_UDF(col('LOC_LAT'), col('LOC_LONG')))\n",
    " .select('LOC', rint(col('old_distance')).alias('old_distance'), rint(col('distance')).alias('distance'), 'old_street_name', 'street_name', 'street_id', 'old_street_id')#, 'old_street_id', 'street_id')\n",
    " .filter(col('old_street_id') != col('street_id'))\n",
    " .drop('street_id', 'old_street_id')\n",
    " .show(truncate=False))\n",
    "print(f'Number of detected high distance: {accidents_roads_first_match.filter(col(\"distance\") >= max_distance_accepted).count()}')"
   ]
  },
  {
   "cell_type": "markdown",
   "metadata": {},
   "source": [
    "# Point in middle formula\n",
    "\n",
    "In order to get the midpoint between to GPS coordinates, we would need to make some advance calculation again, but we don't necessarily want the midpoint but just one point between the two points corresponding to the GPS coordinates. Therefore we can just use the point (lat1+lat2)/2 (long1+long2)/2."
   ]
  },
  {
   "cell_type": "markdown",
   "metadata": {},
   "source": [
    "# Test of the distance measure"
   ]
  },
  {
   "cell_type": "code",
   "execution_count": 11,
   "metadata": {},
   "outputs": [
    {
     "name": "stdout",
     "output_type": "stream",
     "text": [
      "+-----------------+\n",
      "|         distance|\n",
      "+-----------------+\n",
      "|              0.0|\n",
      "|5918185.064088763|\n",
      "+-----------------+\n",
      "\n"
     ]
    }
   ],
   "source": [
    "import pyspark.sql.functions as f\n",
    "from pyspark.sql import Window\n",
    "import pandas as pd\n",
    "\n",
    "# First example distance between identical points, and second example between London and Arlington \n",
    "DF = pd.DataFrame({'lat1': [0, 51.5],\n",
    "                   'long1': [0, 0],\n",
    "                   'lat2': [0, 38.8],\n",
    "                   'long2': [0, -77.1]\n",
    "                  })\n",
    "df = (spark.createDataFrame(DF)\n",
    "        .withColumn('distance_inter', distance_inter('lat1', 'long1', 'lat2', 'long2'))\n",
    "        .withColumn('distance_measure', distance_measure)\n",
    "        .withColumn('distance', col('distance_measure') * earth_diameter)\n",
    "         .select('distance'))\n",
    "df.show()"
   ]
  },
  {
   "cell_type": "markdown",
   "metadata": {},
   "source": [
    "# Test of the top k selection"
   ]
  },
  {
   "cell_type": "code",
   "execution_count": 12,
   "metadata": {},
   "outputs": [
    {
     "name": "stdout",
     "output_type": "stream",
     "text": [
      "+---+---+---+---+\n",
      "|  a|  b|  c|  y|\n",
      "+---+---+---+---+\n",
      "|  1|  3|  1|  1|\n",
      "|  1|  2|  2|  2|\n",
      "|  3|  1|  7|  1|\n",
      "|  3|  2|  8|  2|\n",
      "|  2|  1|  4|  1|\n",
      "|  2|  2|  5|  2|\n",
      "+---+---+---+---+\n",
      "\n"
     ]
    }
   ],
   "source": [
    "import pyspark.sql.functions as f\n",
    "\n",
    "k = 2\n",
    "DF = pd.DataFrame({'a': [1,1,1,2,2,2,3,3,3],\n",
    "                   'b': [1,2,3,1,2,3,1,2,3],\n",
    "                   'c': [3,2,1,4,5,6,7,8,9]\n",
    "                  })\n",
    "\n",
    "df = spark.createDataFrame(DF)\n",
    "\n",
    "window = Window.partitionBy(\"a\").orderBy(\"c\")\n",
    "\n",
    "df.select('a', 'b', 'c', f.rank().over(window).alias('y')).filter(col('y') <= k).show()"
   ]
  },
  {
   "cell_type": "markdown",
   "metadata": {},
   "source": [
    "# Test create several rows from a row"
   ]
  },
  {
   "cell_type": "code",
   "execution_count": 10,
   "metadata": {},
   "outputs": [
    {
     "name": "stdout",
     "output_type": "stream",
     "text": [
      "+---+---+---+\n",
      "|  p|  a|  b|\n",
      "+---+---+---+\n",
      "|  0|4.0|6.0|\n",
      "|  0|4.5|5.5|\n",
      "|  0|5.0|5.0|\n",
      "|  0|5.5|4.5|\n",
      "|  0|6.0|4.0|\n",
      "|  1|1.0|1.0|\n",
      "|  1|1.5|1.5|\n",
      "|  1|2.0|2.0|\n",
      "|  1|2.5|2.5|\n",
      "|  1|3.0|3.0|\n",
      "+---+---+---+\n",
      "\n"
     ]
    }
   ],
   "source": [
    "from pyspark.sql.functions import explode\n",
    "import pandas as pd\n",
    "from pyspark.sql import SparkSession, Window\n",
    "DF = pd.DataFrame({\n",
    "                   'p': [1, 1, 1, 0, 0, 0],\n",
    "                   'a': [1, 2, 3, 4, 5, 6],\n",
    "                   'b': [1, 2, 3, 6, 5, 4] \n",
    "                  })\n",
    "\n",
    "w = Window.partitionBy('p').orderBy(\"b\").rowsBetween(0, +1)\n",
    "df = spark.createDataFrame(DF)\n",
    "df2 = spark.createDataFrame(DF).select('p', avg('a').over(w).alias('p'), avg('b').over(w).alias('p'))\n",
    "df.union(df2).dropDuplicates().orderBy('p', 'a').show()"
   ]
  }
 ],
 "metadata": {
  "kernelspec": {
   "display_name": "accident-prediction-montreal",
   "language": "python",
   "name": "accident-prediction-montreal"
  },
  "language_info": {
   "codemirror_mode": {
    "name": "ipython",
    "version": 3
   },
   "file_extension": ".py",
   "mimetype": "text/x-python",
   "name": "python",
   "nbconvert_exporter": "python",
   "pygments_lexer": "ipython3",
   "version": "3.7.2"
  }
 },
 "nbformat": 4,
 "nbformat_minor": 2
}
