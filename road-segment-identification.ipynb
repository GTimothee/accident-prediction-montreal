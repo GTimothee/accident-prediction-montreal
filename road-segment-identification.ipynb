{
 "cells": [
  {
   "cell_type": "code",
   "execution_count": 1,
   "metadata": {},
   "outputs": [],
   "source": [
    "from road_network import fetch_road_network, extract_road_segments_DF\n",
    "from accidents_montreal import fetch_accidents_montreal, extract_accidents_montreal_dataframe\n",
    "from weather import get_weather\n",
    "from pyspark.sql import SparkSession, Window\n",
    "from pyspark.sql.functions import pow, col, min, udf, monotonically_increasing_id, sin, cos, radians\n",
    "from pyspark.sql.functions import atan2, sqrt, rank, hash, abs, row_number\n",
    "from pyspark.sql.types import StringType\n",
    "from math import fabs as mabs\n",
    "import sys\n",
    "import os"
   ]
  },
  {
   "cell_type": "code",
   "execution_count": 2,
   "metadata": {},
   "outputs": [],
   "source": [
    "def init_spark():\n",
    "    spark = (SparkSession\n",
    "        .builder\n",
    "        .appName(\"Accident Prediction\")\n",
    "        .getOrCreate())\n",
    "    return spark\n",
    "spark = init_spark()"
   ]
  },
  {
   "cell_type": "code",
   "execution_count": 3,
   "metadata": {},
   "outputs": [
    {
     "name": "stdout",
     "output_type": "stream",
     "text": [
      "45°32'30.10\"N 73°36'36.83\"W\n"
     ]
    }
   ],
   "source": [
    "def degree_to_DMS(lat, long):\n",
    "    return (f\"{int(mabs(lat))}°{int(mabs(lat)%1*60):.0f}'{(60*(((mabs(lat)%1)*60)%1)):.2f}\\\"N \" +\n",
    "        f\"{int(mabs(long))}°{int(mabs(long)%1*60):.0f}'{(60*(((mabs(long)%1)*60)%1)):.2f}\\\"W\")\n",
    "print(degree_to_DMS(45.541695,-73.61023))\n",
    "lat = -73.61023"
   ]
  },
  {
   "cell_type": "code",
   "execution_count": 4,
   "metadata": {},
   "outputs": [
    {
     "name": "stdout",
     "output_type": "stream",
     "text": [
      "Skip fetching road network: already downloaded\n",
      "Extracting road network dataframe...\n",
      "Extracting road network dataframe done\n"
     ]
    }
   ],
   "source": [
    "fetch_road_network()\n",
    "rnd = extract_road_segments_DF(spark)"
   ]
  },
  {
   "cell_type": "code",
   "execution_count": 5,
   "metadata": {},
   "outputs": [
    {
     "name": "stdout",
     "output_type": "stream",
     "text": [
      "Skip fetching montreal accidents dataset: already downloaded\n",
      "Skip extraction of accidents montreal dataframe: already done, reading from file\n"
     ]
    }
   ],
   "source": [
    "fetch_accidents_montreal()\n",
    "amd = extract_accidents_montreal_dataframe(spark)"
   ]
  },
  {
   "cell_type": "code",
   "execution_count": 6,
   "metadata": {},
   "outputs": [
    {
     "name": "stdout",
     "output_type": "stream",
     "text": [
      "Selected sample of 95159 roads\n",
      "Selected sample of 175 accidents\n"
     ]
    }
   ],
   "source": [
    "road_centers = (rnd\n",
    "                .select(['street_id', 'street_name', 'street_type', 'center_long', 'center_lat'])\n",
    "                .drop_duplicates()\n",
    "                .persist())\n",
    "sample_accidents = amd.sample(0.001)\n",
    "print(f\"Selected sample of {road_centers.count()} roads\")\n",
    "print(f\"Selected sample of {sample_accidents.count()} accidents\")"
   ]
  },
  {
   "cell_type": "code",
   "execution_count": 7,
   "metadata": {},
   "outputs": [],
   "source": [
    "# Source: https://www.movable-type.co.uk/scripts/latlong.html\n",
    "earth_diameter = 6371 * 2 * 1000 # in meter\n",
    "def distance_inter(lat1, long1, lat2, long2):\n",
    "    return (pow(sin(radians(col(lat1) - col(lat2))/2), 2)\n",
    "            + (pow(sin(radians(col(long1) - col(long2))/2), 2) \n",
    "                * cos(radians(col(lat1))) * cos(radians(col(lat2)))))\n",
    "distance_measure = atan2(sqrt(col('distance_inter')), sqrt(1-col('distance_inter')))"
   ]
  },
  {
   "cell_type": "markdown",
   "metadata": {},
   "source": [
    "# Parameters"
   ]
  },
  {
   "cell_type": "code",
   "execution_count": 20,
   "metadata": {},
   "outputs": [],
   "source": [
    "nb_top_road_center_preselected = 5\n",
    "max_distance_accepted = 10 # in meters"
   ]
  },
  {
   "cell_type": "code",
   "execution_count": 16,
   "metadata": {},
   "outputs": [
    {
     "name": "stdout",
     "output_type": "stream",
     "text": [
      "+-------------+----------+---------+---------+\n",
      "|  ACCIDENT_ID| street_id|  LOC_LAT| LOC_LONG|\n",
      "+-------------+----------+---------+---------+\n",
      "| 506806141671| 756028726| 45.58156| -73.6192|\n",
      "| 506806141671|1375829732| 45.58156| -73.6192|\n",
      "| 506806141671|2120002287| 45.58156| -73.6192|\n",
      "| 506806141671|1192248106| 45.58156| -73.6192|\n",
      "| 506806141671| 678165049| 45.58156| -73.6192|\n",
      "|1142461300978|1330082358|45.451168|-73.59326|\n",
      "|1142461300978|2051336403|45.451168|-73.59326|\n",
      "|1142461300978|1480699038|45.451168|-73.59326|\n",
      "|1142461300978|1375595716|45.451168|-73.59326|\n",
      "|1142461300978| 666270826|45.451168|-73.59326|\n",
      "| 944892805631| 657104228|45.476112| -73.5736|\n",
      "| 944892805631|1035785479|45.476112| -73.5736|\n",
      "| 944892805631|1187887361|45.476112| -73.5736|\n",
      "| 944892805631| 474660343|45.476112| -73.5736|\n",
      "| 944892805631| 594791159|45.476112| -73.5736|\n",
      "|1709396984198| 714046868|45.559834|-73.57141|\n",
      "|1709396984198|2103005111|45.559834|-73.57141|\n",
      "|1709396984198| 434166247|45.559834|-73.57141|\n",
      "|1709396984198| 327872196|45.559834|-73.57141|\n",
      "|1709396984198|1374837380|45.559834|-73.57141|\n",
      "+-------------+----------+---------+---------+\n",
      "only showing top 20 rows\n",
      "\n"
     ]
    }
   ],
   "source": [
    "degree_to_DMS_UDF = udf(degree_to_DMS, StringType())\n",
    "\n",
    "accidentWindow = Window.partitionBy(\"ACCIDENT_ID\").orderBy(\"distance_measure\")\n",
    "accidents_top_k_roads = (sample_accidents\n",
    "        .select('LOC_LAT', 'LOC_LONG', 'ACCIDENT_ID')\n",
    "        .crossJoin(road_centers)\n",
    "        .withColumn('distance_inter', distance_inter('LOC_LAT', 'LOC_LONG', 'center_lat', 'center_long'))\n",
    "        .withColumn('distance_measure', distance_measure)\n",
    "        .select('ACCIDENT_ID', 'street_id', 'distance_measure', 'LOC_LAT', 'LOC_LONG',\n",
    "               rank().over(accidentWindow).alias('distance_rank'))\n",
    "        .filter(col('distance_rank') <= nb_top_road_center_preselected)\n",
    "#       .withColumn('distance', col('distance_measure')*earth_diameter)\n",
    "        .drop('min_distance_measure', 'distance_measure', 'distance_rank')\n",
    "        .persist())\n",
    "accidents_top_k_roads.show()"
   ]
  },
  {
   "cell_type": "code",
   "execution_count": 33,
   "metadata": {},
   "outputs": [
    {
     "name": "stdout",
     "output_type": "stream",
     "text": [
      "+-------------+----------+---------+---------+-----------+----------+\n",
      "|ACCIDENT_ID  |street_id |LOC_LAT  |LOC_LONG |coord_long |coord_lat |\n",
      "+-------------+----------+---------+---------+-----------+----------+\n",
      "|506806141670 |686645377 |45.538074|-73.58583|-73.5860001|45.5371394|\n",
      "|506806141670 |686645377 |45.538074|-73.58583|-73.5857124|45.5374471|\n",
      "|506806141670 |686645377 |45.538074|-73.58583|-73.5852977|45.5378872|\n",
      "|506806141670 |686645377 |45.538074|-73.58583|-73.5856495|45.5375139|\n",
      "|1606317769284|915001323 |45.54867 |-73.57905|-73.5787104|45.5479203|\n",
      "|1606317769284|915001323 |45.54867 |-73.57905|-73.5783611|45.5484578|\n",
      "|1606317769284|915001323 |45.54867 |-73.57905|-73.5785358|45.5481891|\n",
      "|283467842096 |173609494 |45.60073 |-73.61335|-73.6120329|45.5991349|\n",
      "|283467842096 |173609494 |45.60073 |-73.61335|-73.6123441|45.5995802|\n",
      "|283467842096 |173609494 |45.60073 |-73.61335|-73.6127443|45.6000455|\n",
      "|283467842096 |173609494 |45.60073 |-73.61335|-73.6129728|45.6002572|\n",
      "|283467842096 |173609494 |45.60073 |-73.61335|-73.6131575|45.600412 |\n",
      "|283467842096 |173609494 |45.60073 |-73.61335|-73.6135427|45.6007133|\n",
      "|283467842096 |173609494 |45.60073 |-73.61335|-73.6141375|45.601153 |\n",
      "|283467842096 |173609494 |45.60073 |-73.61335|-73.6145954|45.6015409|\n",
      "|283467842096 |173609494 |45.60073 |-73.61335|-73.6147757|45.6017042|\n",
      "|283467842096 |173609494 |45.60073 |-73.61335|-73.6162796|45.6031266|\n",
      "|283467842096 |173609494 |45.60073 |-73.61335|-73.6141275|45.6011456|\n",
      "|1331439862204|2058078144|45.48061 |-73.55764|-73.5585519|45.4806172|\n",
      "|1331439862204|2058078144|45.48061 |-73.55764|-73.5586842|45.4799309|\n",
      "+-------------+----------+---------+---------+-----------+----------+\n",
      "only showing top 20 rows\n",
      "\n"
     ]
    }
   ],
   "source": [
    "accidents_roads_first_match = (accidents_top_k_roads\n",
    "        .join(rnd, 'street_id')\n",
    "        .withColumn('distance_inter', distance_inter('LOC_LAT', 'LOC_LONG', 'coord_lat', 'coord_long'))\n",
    "        .withColumn('distance_measure', distance_measure)\n",
    "        .select('ACCIDENT_ID', 'LOC_LAT', 'LOC_LONG', 'coord_lat', 'coord_long', 'street_id', 'street_name', \n",
    "                row_number().over(accidentWindow).alias('distance_rank'), 'distance_measure')\n",
    "        .filter(col('distance_rank') == 1)\n",
    "        .withColumn('distance', col('distance_measure')*earth_diameter)\n",
    "        .drop('distance_rank', 'distance_measure', 'LOC_LAT', 'LOC_LONG', 'coord_lat', 'coord_long')\n",
    "        .persist())\n",
    "accidents_road_correct_match = (accidents_roads_first_match.filter(col('distance') < max_distance_accepted))\n",
    "accidents_road_corrected_match = (accidents_roads_first_match\n",
    "        .filter(col('distance') >= max_distance_accepted)\n",
    "        .select('ACCIDENT_ID')\n",
    "        .join(accidents_top_k_roads, 'ACCIDENT_ID')\n",
    "        .join(rnd, 'street_id')\n",
    "        .select('ACCIDENT_ID', 'street_id', 'LOC_LAT', 'LOC_LONG', 'coord_long', 'coord_lat')\n",
    "#         .withColumn('LOC', degree_to_DMS_UDF(col('LOC_LAT'), col('LOC_LONG')))\n",
    "#         .withColumn('center', degree_to_DMS_UDF(col('center_lat'), col('center_long')))\n",
    "#         .withColumn('coord', degree_to_DMS_UDF(col('coord_lat'), col('coord_long')))\n",
    "#         .drop('LOC_LAT', 'LOC_LONG', 'coord_lat', 'coord_long', 'center_lat', 'center_long')\n",
    "        .drop(col('noop')))\n",
    "\n",
    "accidents_road_corrected_match.show(truncate=False)"
   ]
  },
  {
   "cell_type": "markdown",
   "metadata": {},
   "source": [
    "# Test of the distance measure"
   ]
  },
  {
   "cell_type": "code",
   "execution_count": 9,
   "metadata": {},
   "outputs": [
    {
     "name": "stdout",
     "output_type": "stream",
     "text": [
      "+-----------------+\n",
      "|         distance|\n",
      "+-----------------+\n",
      "|              0.0|\n",
      "|5918185.064088763|\n",
      "+-----------------+\n",
      "\n"
     ]
    }
   ],
   "source": [
    "import pyspark.sql.functions as f\n",
    "from pyspark.sql import Window\n",
    "import pandas as pd\n",
    "\n",
    "# First example distance between identical points, and second example between London and Arlington \n",
    "DF = pd.DataFrame({'lat1': [0, 51.5],\n",
    "                   'long1': [0, 0],\n",
    "                   'lat2': [0, 38.8],\n",
    "                   'long2': [0, -77.1]\n",
    "                  })\n",
    "df = (spark.createDataFrame(DF)\n",
    "        .withColumn('distance_inter', distance_inter('lat1', 'long1', 'lat2', 'long2'))\n",
    "        .withColumn('distance_measure', distance_measure)\n",
    "        .withColumn('distance', col('distance_measure') * earth_diameter)\n",
    "         .select('distance'))\n",
    "df.show()"
   ]
  },
  {
   "cell_type": "markdown",
   "metadata": {},
   "source": [
    "# Test of the top k selection"
   ]
  },
  {
   "cell_type": "code",
   "execution_count": 17,
   "metadata": {},
   "outputs": [
    {
     "name": "stdout",
     "output_type": "stream",
     "text": [
      "+---+---+---+---+\n",
      "|  a|  b|  c|  y|\n",
      "+---+---+---+---+\n",
      "|  1|  3|  1|  1|\n",
      "|  1|  2|  2|  2|\n",
      "|  3|  1|  7|  1|\n",
      "|  3|  2|  8|  2|\n",
      "|  2|  1|  4|  1|\n",
      "|  2|  2|  5|  2|\n",
      "+---+---+---+---+\n",
      "\n"
     ]
    }
   ],
   "source": [
    "import pyspark.sql.functions as f\n",
    "from pyspark.sql import Window\n",
    "import pandas as pd\n",
    "\n",
    "k = 2\n",
    "DF = pd.DataFrame({'a': [1,1,1,2,2,2,3,3,3],\n",
    "                   'b': [1,2,3,1,2,3,1,2,3],\n",
    "                   'c': [3,2,1,4,5,6,7,8,9]\n",
    "                  })\n",
    "\n",
    "df = spark.createDataFrame(DF)\n",
    "\n",
    "window = Window.partitionBy(\"a\").orderBy(\"c\")\n",
    "\n",
    "df.select('a', 'b', 'c', f.rank().over(window).alias('y')).filter(col('y') <= k).show()"
   ]
  }
 ],
 "metadata": {
  "kernelspec": {
   "display_name": "accident-prediction-montreal",
   "language": "python",
   "name": "accident-prediction-montreal"
  },
  "language_info": {
   "codemirror_mode": {
    "name": "ipython",
    "version": 3
   },
   "file_extension": ".py",
   "mimetype": "text/x-python",
   "name": "python",
   "nbconvert_exporter": "python",
   "pygments_lexer": "ipython3",
   "version": "3.7.2"
  }
 },
 "nbformat": 4,
 "nbformat_minor": 2
}
